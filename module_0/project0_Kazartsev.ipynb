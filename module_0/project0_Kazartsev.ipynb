{
 "cells": [
  {
   "cell_type": "code",
   "execution_count": 23,
   "metadata": {},
   "outputs": [
    {
     "name": "stdout",
     "output_type": "stream",
     "text": [
      "Ваш алгоритм угадывает число в среднем за 5 попыток\n"
     ]
    },
    {
     "data": {
      "text/plain": [
       "5"
      ]
     },
     "execution_count": 23,
     "metadata": {},
     "output_type": "execute_result"
    }
   ],
   "source": [
    "import numpy as np\n",
    "\n",
    "def game_core_v3(number):\n",
    "    '''Устанавливаем границы возможного интервала и последовательно отсекаем половину текущего интервала'''\n",
    "    count = 1\n",
    "    min_predict = 0 # задаем нижнюю границу поиска\n",
    "    max_predict = 101 # задаем верхнюю границу поиска\n",
    "    predict = (min_predict + max_predict)//2\n",
    "    while number != predict:\n",
    "        count+=1 # увеличиваем счетчик попыток\n",
    "        if number > predict:\n",
    "            min_predict = predict # отсекаем часть ниже предыдущего предположения\n",
    "            predict = (min_predict + max_predict)//2 # задаем новое предположение как целочисленное среднее минимума и максимума\n",
    "        else:\n",
    "            max_predict = predict # отсекаем часть выше предыдущего предположения\n",
    "            predict = (min_predict + max_predict)//2 # задаем новое предположение как целочисленное среднее минимума и максимума\n",
    "    return(count) # выход из цикла, если угадали\n",
    "\n",
    "def score_game(game_core):\n",
    "    '''Запускаем игру 1000 раз, чтобы узнать, как быстро игра угадывает число'''\n",
    "    count_ls = []\n",
    "    np.random.seed(1)  # фиксируем RANDOM SEED, чтобы ваш эксперимент был воспроизводим!\n",
    "    random_array = np.random.randint(1,101, size=(1000))\n",
    "    for number in random_array:\n",
    "        count_ls.append(game_core(number))\n",
    "    score = int(np.mean(count_ls))\n",
    "    print(f\"Ваш алгоритм угадывает число в среднем за {score} попыток\")\n",
    "    return(score)\n",
    "\n",
    "\n",
    "score_game(game_core_v3)"
   ]
  }
 ],
 "metadata": {
  "kernelspec": {
   "display_name": "Python 3",
   "language": "python",
   "name": "python3"
  },
  "language_info": {
   "codemirror_mode": {
    "name": "ipython",
    "version": 3
   },
   "file_extension": ".py",
   "mimetype": "text/x-python",
   "name": "python",
   "nbconvert_exporter": "python",
   "pygments_lexer": "ipython3",
   "version": "3.8.3"
  }
 },
 "nbformat": 4,
 "nbformat_minor": 4
}
