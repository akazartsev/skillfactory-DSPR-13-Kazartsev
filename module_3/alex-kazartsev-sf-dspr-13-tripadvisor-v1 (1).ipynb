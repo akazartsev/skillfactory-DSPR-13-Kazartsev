{
 "cells": [
  {
   "cell_type": "markdown",
   "metadata": {},
   "source": [
    "# import"
   ]
  },
  {
   "cell_type": "code",
   "execution_count": 1,
   "metadata": {
    "_cell_guid": "b1076dfc-b9ad-4769-8c92-a6c4dae69d19",
    "_uuid": "8f2839f25d086af736a60e9eeb907d3b93b6e0e5"
   },
   "outputs": [],
   "source": [
    "# This Python 3 environment comes with many helpful analytics libraries installed\n",
    "# It is defined by the kaggle/python docker image: https://github.com/kaggle/docker-python\n",
    "# For example, here's several helpful packages to load in \n",
    "\n",
    "import numpy as np # linear algebra\n",
    "import pandas as pd # data processing, CSV file I/O (e.g. pd.read_csv)\n",
    "\n",
    "import matplotlib.pyplot as plt\n",
    "import seaborn as sns \n",
    "%matplotlib inline\n",
    "\n",
    "# Загружаем специальный удобный инструмент для разделения датасета:\n",
    "from sklearn.model_selection import train_test_split\n",
    "\n",
    "# Input data files are available in the \"../input/\" directory.\n",
    "# For example, running this (by clicking run or pressing Shift+Enter) will list all files under the input directory\n",
    "\n",
    "import os\n",
    "for dirname, _, filenames in os.walk('/kaggle/input'):\n",
    "    for filename in filenames:\n",
    "        print(os.path.join(dirname, filename))\n",
    "        \n",
    "import datetime\n",
    "from datetime import date\n",
    "from datetime import timedelta\n",
    "\n",
    "# Any results you write to the current directory are saved as output."
   ]
  },
  {
   "cell_type": "code",
   "execution_count": 2,
   "metadata": {},
   "outputs": [],
   "source": [
    "# всегда фиксируйте RANDOM_SEED, чтобы ваши эксперименты были воспроизводимы!\n",
    "RANDOM_SEED = 42"
   ]
  },
  {
   "cell_type": "code",
   "execution_count": 3,
   "metadata": {},
   "outputs": [],
   "source": [
    "# зафиксируем версию пакетов, чтобы эксперименты были воспроизводимы:\n",
    "!pip freeze > requirements.txt"
   ]
  },
  {
   "cell_type": "markdown",
   "metadata": {},
   "source": [
    "# DATA"
   ]
  },
  {
   "cell_type": "code",
   "execution_count": 4,
   "metadata": {
    "_cell_guid": "79c7e3d0-c299-4dcb-8224-4455121ee9b0",
    "_uuid": "d629ff2d2480ee46fbb7e2d37f6b5fab8052498a"
   },
   "outputs": [],
   "source": [
    "#DATA_DIR = '/kaggle/input/sf-dst-restaurant-rating/'\n",
    "df_train = pd.read_csv('main_task.csv')\n",
    "df_test = pd.read_csv('kaggle_task.csv')\n",
    "sample_submission = pd.read_csv('sample_submission.csv')"
   ]
  },
  {
   "cell_type": "code",
   "execution_count": 5,
   "metadata": {},
   "outputs": [
    {
     "name": "stdout",
     "output_type": "stream",
     "text": [
      "<class 'pandas.core.frame.DataFrame'>\n",
      "RangeIndex: 40000 entries, 0 to 39999\n",
      "Data columns (total 10 columns):\n",
      " #   Column             Non-Null Count  Dtype  \n",
      "---  ------             --------------  -----  \n",
      " 0   Restaurant_id      40000 non-null  object \n",
      " 1   City               40000 non-null  object \n",
      " 2   Cuisine Style      30717 non-null  object \n",
      " 3   Ranking            40000 non-null  float64\n",
      " 4   Rating             40000 non-null  float64\n",
      " 5   Price Range        26114 non-null  object \n",
      " 6   Number of Reviews  37457 non-null  float64\n",
      " 7   Reviews            40000 non-null  object \n",
      " 8   URL_TA             40000 non-null  object \n",
      " 9   ID_TA              40000 non-null  object \n",
      "dtypes: float64(3), object(7)\n",
      "memory usage: 3.1+ MB\n"
     ]
    }
   ],
   "source": [
    "df_train.info()"
   ]
  },
  {
   "cell_type": "markdown",
   "metadata": {},
   "source": [
    "Сразу видим что:\n",
    "1. большинство столбцов имеют тип object - следовательно нужно их преобразовывать для использования в модели\n",
    "2. наименования столбцов неудобны для работы. Необходимо их унифицировать в написании и убрать заглавные буквы\n",
    "3. есть столбцы с пропусками, которые необходимо обработать"
   ]
  },
  {
   "cell_type": "markdown",
   "metadata": {},
   "source": [
    "напишем функцию для унификации наименований столюцов датафрейма"
   ]
  },
  {
   "cell_type": "code",
   "execution_count": 6,
   "metadata": {},
   "outputs": [],
   "source": [
    "def columns_naming(df):\n",
    "    df_columns = df.columns\n",
    "    new_columns = []\n",
    "    for column in df_columns:\n",
    "        column = column.lower()\n",
    "        column = column.replace(\" \",\"_\")\n",
    "        new_columns.append(column)\n",
    "    df.columns = new_columns\n",
    "    return df"
   ]
  },
  {
   "cell_type": "code",
   "execution_count": 7,
   "metadata": {},
   "outputs": [
    {
     "data": {
      "text/html": [
       "<div>\n",
       "<style scoped>\n",
       "    .dataframe tbody tr th:only-of-type {\n",
       "        vertical-align: middle;\n",
       "    }\n",
       "\n",
       "    .dataframe tbody tr th {\n",
       "        vertical-align: top;\n",
       "    }\n",
       "\n",
       "    .dataframe thead th {\n",
       "        text-align: right;\n",
       "    }\n",
       "</style>\n",
       "<table border=\"1\" class=\"dataframe\">\n",
       "  <thead>\n",
       "    <tr style=\"text-align: right;\">\n",
       "      <th></th>\n",
       "      <th>Restaurant_id</th>\n",
       "      <th>City</th>\n",
       "      <th>Cuisine Style</th>\n",
       "      <th>Ranking</th>\n",
       "      <th>Rating</th>\n",
       "      <th>Price Range</th>\n",
       "      <th>Number of Reviews</th>\n",
       "      <th>Reviews</th>\n",
       "      <th>URL_TA</th>\n",
       "      <th>ID_TA</th>\n",
       "    </tr>\n",
       "  </thead>\n",
       "  <tbody>\n",
       "    <tr>\n",
       "      <th>0</th>\n",
       "      <td>id_5569</td>\n",
       "      <td>Paris</td>\n",
       "      <td>['European', 'French', 'International']</td>\n",
       "      <td>5570.0</td>\n",
       "      <td>3.5</td>\n",
       "      <td>$$ - $$$</td>\n",
       "      <td>194.0</td>\n",
       "      <td>[['Good food at your doorstep', 'A good hotel ...</td>\n",
       "      <td>/Restaurant_Review-g187147-d1912643-Reviews-R_...</td>\n",
       "      <td>d1912643</td>\n",
       "    </tr>\n",
       "    <tr>\n",
       "      <th>1</th>\n",
       "      <td>id_1535</td>\n",
       "      <td>Stockholm</td>\n",
       "      <td>NaN</td>\n",
       "      <td>1537.0</td>\n",
       "      <td>4.0</td>\n",
       "      <td>NaN</td>\n",
       "      <td>10.0</td>\n",
       "      <td>[['Unique cuisine', 'Delicious Nepalese food']...</td>\n",
       "      <td>/Restaurant_Review-g189852-d7992032-Reviews-Bu...</td>\n",
       "      <td>d7992032</td>\n",
       "    </tr>\n",
       "    <tr>\n",
       "      <th>2</th>\n",
       "      <td>id_352</td>\n",
       "      <td>London</td>\n",
       "      <td>['Japanese', 'Sushi', 'Asian', 'Grill', 'Veget...</td>\n",
       "      <td>353.0</td>\n",
       "      <td>4.5</td>\n",
       "      <td>$$$$</td>\n",
       "      <td>688.0</td>\n",
       "      <td>[['Catch up with friends', 'Not exceptional'],...</td>\n",
       "      <td>/Restaurant_Review-g186338-d8632781-Reviews-RO...</td>\n",
       "      <td>d8632781</td>\n",
       "    </tr>\n",
       "    <tr>\n",
       "      <th>3</th>\n",
       "      <td>id_3456</td>\n",
       "      <td>Berlin</td>\n",
       "      <td>NaN</td>\n",
       "      <td>3458.0</td>\n",
       "      <td>5.0</td>\n",
       "      <td>NaN</td>\n",
       "      <td>3.0</td>\n",
       "      <td>[[], []]</td>\n",
       "      <td>/Restaurant_Review-g187323-d1358776-Reviews-Es...</td>\n",
       "      <td>d1358776</td>\n",
       "    </tr>\n",
       "    <tr>\n",
       "      <th>4</th>\n",
       "      <td>id_615</td>\n",
       "      <td>Munich</td>\n",
       "      <td>['German', 'Central European', 'Vegetarian Fri...</td>\n",
       "      <td>621.0</td>\n",
       "      <td>4.0</td>\n",
       "      <td>$$ - $$$</td>\n",
       "      <td>84.0</td>\n",
       "      <td>[['Best place to try a Bavarian food', 'Nice b...</td>\n",
       "      <td>/Restaurant_Review-g187309-d6864963-Reviews-Au...</td>\n",
       "      <td>d6864963</td>\n",
       "    </tr>\n",
       "  </tbody>\n",
       "</table>\n",
       "</div>"
      ],
      "text/plain": [
       "  Restaurant_id       City                                      Cuisine Style  \\\n",
       "0       id_5569      Paris            ['European', 'French', 'International']   \n",
       "1       id_1535  Stockholm                                                NaN   \n",
       "2        id_352     London  ['Japanese', 'Sushi', 'Asian', 'Grill', 'Veget...   \n",
       "3       id_3456     Berlin                                                NaN   \n",
       "4        id_615     Munich  ['German', 'Central European', 'Vegetarian Fri...   \n",
       "\n",
       "   Ranking  Rating Price Range  Number of Reviews  \\\n",
       "0   5570.0     3.5    $$ - $$$              194.0   \n",
       "1   1537.0     4.0         NaN               10.0   \n",
       "2    353.0     4.5        $$$$              688.0   \n",
       "3   3458.0     5.0         NaN                3.0   \n",
       "4    621.0     4.0    $$ - $$$               84.0   \n",
       "\n",
       "                                             Reviews  \\\n",
       "0  [['Good food at your doorstep', 'A good hotel ...   \n",
       "1  [['Unique cuisine', 'Delicious Nepalese food']...   \n",
       "2  [['Catch up with friends', 'Not exceptional'],...   \n",
       "3                                           [[], []]   \n",
       "4  [['Best place to try a Bavarian food', 'Nice b...   \n",
       "\n",
       "                                              URL_TA     ID_TA  \n",
       "0  /Restaurant_Review-g187147-d1912643-Reviews-R_...  d1912643  \n",
       "1  /Restaurant_Review-g189852-d7992032-Reviews-Bu...  d7992032  \n",
       "2  /Restaurant_Review-g186338-d8632781-Reviews-RO...  d8632781  \n",
       "3  /Restaurant_Review-g187323-d1358776-Reviews-Es...  d1358776  \n",
       "4  /Restaurant_Review-g187309-d6864963-Reviews-Au...  d6864963  "
      ]
     },
     "execution_count": 7,
     "metadata": {},
     "output_type": "execute_result"
    }
   ],
   "source": [
    "df_train.head(5)"
   ]
  },
  {
   "cell_type": "code",
   "execution_count": 8,
   "metadata": {},
   "outputs": [
    {
     "name": "stdout",
     "output_type": "stream",
     "text": [
      "<class 'pandas.core.frame.DataFrame'>\n",
      "RangeIndex: 10000 entries, 0 to 9999\n",
      "Data columns (total 9 columns):\n",
      " #   Column             Non-Null Count  Dtype  \n",
      "---  ------             --------------  -----  \n",
      " 0   Restaurant_id      10000 non-null  object \n",
      " 1   City               10000 non-null  object \n",
      " 2   Cuisine Style      7693 non-null   object \n",
      " 3   Ranking            10000 non-null  float64\n",
      " 4   Price Range        6525 non-null   object \n",
      " 5   Number of Reviews  9343 non-null   float64\n",
      " 6   Reviews            9998 non-null   object \n",
      " 7   URL_TA             10000 non-null  object \n",
      " 8   ID_TA              10000 non-null  object \n",
      "dtypes: float64(2), object(7)\n",
      "memory usage: 703.2+ KB\n"
     ]
    }
   ],
   "source": [
    "df_test.info()"
   ]
  },
  {
   "cell_type": "code",
   "execution_count": 9,
   "metadata": {},
   "outputs": [
    {
     "data": {
      "text/html": [
       "<div>\n",
       "<style scoped>\n",
       "    .dataframe tbody tr th:only-of-type {\n",
       "        vertical-align: middle;\n",
       "    }\n",
       "\n",
       "    .dataframe tbody tr th {\n",
       "        vertical-align: top;\n",
       "    }\n",
       "\n",
       "    .dataframe thead th {\n",
       "        text-align: right;\n",
       "    }\n",
       "</style>\n",
       "<table border=\"1\" class=\"dataframe\">\n",
       "  <thead>\n",
       "    <tr style=\"text-align: right;\">\n",
       "      <th></th>\n",
       "      <th>Restaurant_id</th>\n",
       "      <th>City</th>\n",
       "      <th>Cuisine Style</th>\n",
       "      <th>Ranking</th>\n",
       "      <th>Price Range</th>\n",
       "      <th>Number of Reviews</th>\n",
       "      <th>Reviews</th>\n",
       "      <th>URL_TA</th>\n",
       "      <th>ID_TA</th>\n",
       "    </tr>\n",
       "  </thead>\n",
       "  <tbody>\n",
       "    <tr>\n",
       "      <th>0</th>\n",
       "      <td>id_0</td>\n",
       "      <td>Paris</td>\n",
       "      <td>['Bar', 'Pub']</td>\n",
       "      <td>12963.0</td>\n",
       "      <td>$$ - $$$</td>\n",
       "      <td>4.0</td>\n",
       "      <td>[[], []]</td>\n",
       "      <td>/Restaurant_Review-g187147-d10746918-Reviews-L...</td>\n",
       "      <td>d10746918</td>\n",
       "    </tr>\n",
       "    <tr>\n",
       "      <th>1</th>\n",
       "      <td>id_1</td>\n",
       "      <td>Helsinki</td>\n",
       "      <td>['European', 'Scandinavian', 'Gluten Free Opti...</td>\n",
       "      <td>106.0</td>\n",
       "      <td>$$ - $$$</td>\n",
       "      <td>97.0</td>\n",
       "      <td>[['Very good reviews!', 'Fine dining in Hakani...</td>\n",
       "      <td>/Restaurant_Review-g189934-d6674944-Reviews-Ra...</td>\n",
       "      <td>d6674944</td>\n",
       "    </tr>\n",
       "    <tr>\n",
       "      <th>2</th>\n",
       "      <td>id_2</td>\n",
       "      <td>Edinburgh</td>\n",
       "      <td>['Vegetarian Friendly']</td>\n",
       "      <td>810.0</td>\n",
       "      <td>$$ - $$$</td>\n",
       "      <td>28.0</td>\n",
       "      <td>[['Better than the Links', 'Ivy Black'], ['12/...</td>\n",
       "      <td>/Restaurant_Review-g186525-d13129638-Reviews-B...</td>\n",
       "      <td>d13129638</td>\n",
       "    </tr>\n",
       "    <tr>\n",
       "      <th>3</th>\n",
       "      <td>id_3</td>\n",
       "      <td>London</td>\n",
       "      <td>['Italian', 'Mediterranean', 'European', 'Vege...</td>\n",
       "      <td>1669.0</td>\n",
       "      <td>$$$$</td>\n",
       "      <td>202.0</td>\n",
       "      <td>[['Most exquisite', 'Delicious and authentic']...</td>\n",
       "      <td>/Restaurant_Review-g186338-d680417-Reviews-Qui...</td>\n",
       "      <td>d680417</td>\n",
       "    </tr>\n",
       "    <tr>\n",
       "      <th>4</th>\n",
       "      <td>id_4</td>\n",
       "      <td>Bratislava</td>\n",
       "      <td>['Italian', 'Mediterranean', 'European', 'Seaf...</td>\n",
       "      <td>37.0</td>\n",
       "      <td>$$$$</td>\n",
       "      <td>162.0</td>\n",
       "      <td>[['Always the best in bratislava', 'Very good ...</td>\n",
       "      <td>/Restaurant_Review-g274924-d1112354-Reviews-Ma...</td>\n",
       "      <td>d1112354</td>\n",
       "    </tr>\n",
       "  </tbody>\n",
       "</table>\n",
       "</div>"
      ],
      "text/plain": [
       "  Restaurant_id        City  \\\n",
       "0          id_0       Paris   \n",
       "1          id_1    Helsinki   \n",
       "2          id_2   Edinburgh   \n",
       "3          id_3      London   \n",
       "4          id_4  Bratislava   \n",
       "\n",
       "                                       Cuisine Style  Ranking Price Range  \\\n",
       "0                                     ['Bar', 'Pub']  12963.0    $$ - $$$   \n",
       "1  ['European', 'Scandinavian', 'Gluten Free Opti...    106.0    $$ - $$$   \n",
       "2                            ['Vegetarian Friendly']    810.0    $$ - $$$   \n",
       "3  ['Italian', 'Mediterranean', 'European', 'Vege...   1669.0        $$$$   \n",
       "4  ['Italian', 'Mediterranean', 'European', 'Seaf...     37.0        $$$$   \n",
       "\n",
       "   Number of Reviews                                            Reviews  \\\n",
       "0                4.0                                           [[], []]   \n",
       "1               97.0  [['Very good reviews!', 'Fine dining in Hakani...   \n",
       "2               28.0  [['Better than the Links', 'Ivy Black'], ['12/...   \n",
       "3              202.0  [['Most exquisite', 'Delicious and authentic']...   \n",
       "4              162.0  [['Always the best in bratislava', 'Very good ...   \n",
       "\n",
       "                                              URL_TA      ID_TA  \n",
       "0  /Restaurant_Review-g187147-d10746918-Reviews-L...  d10746918  \n",
       "1  /Restaurant_Review-g189934-d6674944-Reviews-Ra...   d6674944  \n",
       "2  /Restaurant_Review-g186525-d13129638-Reviews-B...  d13129638  \n",
       "3  /Restaurant_Review-g186338-d680417-Reviews-Qui...    d680417  \n",
       "4  /Restaurant_Review-g274924-d1112354-Reviews-Ma...   d1112354  "
      ]
     },
     "execution_count": 9,
     "metadata": {},
     "output_type": "execute_result"
    }
   ],
   "source": [
    "df_test.head(5)"
   ]
  },
  {
   "cell_type": "code",
   "execution_count": 10,
   "metadata": {},
   "outputs": [
    {
     "data": {
      "text/html": [
       "<div>\n",
       "<style scoped>\n",
       "    .dataframe tbody tr th:only-of-type {\n",
       "        vertical-align: middle;\n",
       "    }\n",
       "\n",
       "    .dataframe tbody tr th {\n",
       "        vertical-align: top;\n",
       "    }\n",
       "\n",
       "    .dataframe thead th {\n",
       "        text-align: right;\n",
       "    }\n",
       "</style>\n",
       "<table border=\"1\" class=\"dataframe\">\n",
       "  <thead>\n",
       "    <tr style=\"text-align: right;\">\n",
       "      <th></th>\n",
       "      <th>Restaurant_id</th>\n",
       "      <th>Rating</th>\n",
       "    </tr>\n",
       "  </thead>\n",
       "  <tbody>\n",
       "    <tr>\n",
       "      <th>0</th>\n",
       "      <td>id_0</td>\n",
       "      <td>2.0</td>\n",
       "    </tr>\n",
       "    <tr>\n",
       "      <th>1</th>\n",
       "      <td>id_1</td>\n",
       "      <td>2.5</td>\n",
       "    </tr>\n",
       "    <tr>\n",
       "      <th>2</th>\n",
       "      <td>id_2</td>\n",
       "      <td>4.0</td>\n",
       "    </tr>\n",
       "    <tr>\n",
       "      <th>3</th>\n",
       "      <td>id_3</td>\n",
       "      <td>1.0</td>\n",
       "    </tr>\n",
       "    <tr>\n",
       "      <th>4</th>\n",
       "      <td>id_4</td>\n",
       "      <td>4.0</td>\n",
       "    </tr>\n",
       "  </tbody>\n",
       "</table>\n",
       "</div>"
      ],
      "text/plain": [
       "  Restaurant_id  Rating\n",
       "0          id_0     2.0\n",
       "1          id_1     2.5\n",
       "2          id_2     4.0\n",
       "3          id_3     1.0\n",
       "4          id_4     4.0"
      ]
     },
     "execution_count": 10,
     "metadata": {},
     "output_type": "execute_result"
    }
   ],
   "source": [
    "sample_submission.head(5)"
   ]
  },
  {
   "cell_type": "code",
   "execution_count": 11,
   "metadata": {},
   "outputs": [
    {
     "name": "stdout",
     "output_type": "stream",
     "text": [
      "<class 'pandas.core.frame.DataFrame'>\n",
      "RangeIndex: 10000 entries, 0 to 9999\n",
      "Data columns (total 2 columns):\n",
      " #   Column         Non-Null Count  Dtype  \n",
      "---  ------         --------------  -----  \n",
      " 0   Restaurant_id  10000 non-null  object \n",
      " 1   Rating         10000 non-null  float64\n",
      "dtypes: float64(1), object(1)\n",
      "memory usage: 156.4+ KB\n"
     ]
    }
   ],
   "source": [
    "sample_submission.info()"
   ]
  },
  {
   "cell_type": "markdown",
   "metadata": {},
   "source": [
    "переименуем столбцы в таблицах train и test"
   ]
  },
  {
   "cell_type": "code",
   "execution_count": 12,
   "metadata": {},
   "outputs": [],
   "source": [
    "df_train = columns_naming(df_train)\n",
    "df_test = columns_naming(df_test)"
   ]
  },
  {
   "cell_type": "code",
   "execution_count": 13,
   "metadata": {},
   "outputs": [],
   "source": [
    "# ВАЖНО! дря корректной обработки признаков объединяем трейн и тест в один датасет\n",
    "df_train['sample'] = 1 # помечаем где у нас трейн\n",
    "df_test['sample'] = 0 # помечаем где у нас тест\n",
    "df_test['rating'] = 0 # в тесте у нас нет значения Rating, мы его должны предсказать, по этому пока просто заполняем нулями\n",
    "\n",
    "data = df_test.append(df_train, sort=False).reset_index(drop=True) # объединяем"
   ]
  },
  {
   "cell_type": "code",
   "execution_count": 14,
   "metadata": {},
   "outputs": [
    {
     "name": "stdout",
     "output_type": "stream",
     "text": [
      "<class 'pandas.core.frame.DataFrame'>\n",
      "RangeIndex: 50000 entries, 0 to 49999\n",
      "Data columns (total 11 columns):\n",
      " #   Column             Non-Null Count  Dtype  \n",
      "---  ------             --------------  -----  \n",
      " 0   restaurant_id      50000 non-null  object \n",
      " 1   city               50000 non-null  object \n",
      " 2   cuisine_style      38410 non-null  object \n",
      " 3   ranking            50000 non-null  float64\n",
      " 4   price_range        32639 non-null  object \n",
      " 5   number_of_reviews  46800 non-null  float64\n",
      " 6   reviews            49998 non-null  object \n",
      " 7   url_ta             50000 non-null  object \n",
      " 8   id_ta              50000 non-null  object \n",
      " 9   sample             50000 non-null  int64  \n",
      " 10  rating             50000 non-null  float64\n",
      "dtypes: float64(3), int64(1), object(7)\n",
      "memory usage: 4.2+ MB\n"
     ]
    }
   ],
   "source": [
    "data.info()"
   ]
  },
  {
   "cell_type": "markdown",
   "metadata": {},
   "source": [
    "Подробнее по признакам:\n",
    "* City: Город \n",
    "* Cuisine Style: Кухня\n",
    "* Ranking: Ранг ресторана относительно других ресторанов в этом городе\n",
    "* Price Range: Цены в ресторане в 3 категориях\n",
    "* Number of Reviews: Количество отзывов\n",
    "* Reviews: 2 последних отзыва и даты этих отзывов\n",
    "* URL_TA: страница ресторана на 'www.tripadvisor.com' \n",
    "* ID_TA: ID ресторана в TripAdvisor\n",
    "* Rating: Рейтинг ресторана"
   ]
  },
  {
   "cell_type": "code",
   "execution_count": 15,
   "metadata": {},
   "outputs": [
    {
     "data": {
      "text/html": [
       "<div>\n",
       "<style scoped>\n",
       "    .dataframe tbody tr th:only-of-type {\n",
       "        vertical-align: middle;\n",
       "    }\n",
       "\n",
       "    .dataframe tbody tr th {\n",
       "        vertical-align: top;\n",
       "    }\n",
       "\n",
       "    .dataframe thead th {\n",
       "        text-align: right;\n",
       "    }\n",
       "</style>\n",
       "<table border=\"1\" class=\"dataframe\">\n",
       "  <thead>\n",
       "    <tr style=\"text-align: right;\">\n",
       "      <th></th>\n",
       "      <th>restaurant_id</th>\n",
       "      <th>city</th>\n",
       "      <th>cuisine_style</th>\n",
       "      <th>ranking</th>\n",
       "      <th>price_range</th>\n",
       "      <th>number_of_reviews</th>\n",
       "      <th>reviews</th>\n",
       "      <th>url_ta</th>\n",
       "      <th>id_ta</th>\n",
       "      <th>sample</th>\n",
       "      <th>rating</th>\n",
       "    </tr>\n",
       "  </thead>\n",
       "  <tbody>\n",
       "    <tr>\n",
       "      <th>30219</th>\n",
       "      <td>id_3252</td>\n",
       "      <td>Vienna</td>\n",
       "      <td>['Italian']</td>\n",
       "      <td>3254.0</td>\n",
       "      <td>NaN</td>\n",
       "      <td>4.0</td>\n",
       "      <td>[[], []]</td>\n",
       "      <td>/Restaurant_Review-g190454-d4551268-Reviews-Bu...</td>\n",
       "      <td>d4551268</td>\n",
       "      <td>1</td>\n",
       "      <td>4.5</td>\n",
       "    </tr>\n",
       "    <tr>\n",
       "      <th>34681</th>\n",
       "      <td>id_370</td>\n",
       "      <td>Krakow</td>\n",
       "      <td>['European', 'Grill', 'Polish', 'Bar', 'Cafe',...</td>\n",
       "      <td>371.0</td>\n",
       "      <td>$</td>\n",
       "      <td>27.0</td>\n",
       "      <td>[['Kazimir Restaurant Bar', 'Good Atmosphere']...</td>\n",
       "      <td>/Restaurant_Review-g274772-d12091331-Reviews-K...</td>\n",
       "      <td>d12091331</td>\n",
       "      <td>1</td>\n",
       "      <td>4.5</td>\n",
       "    </tr>\n",
       "    <tr>\n",
       "      <th>26611</th>\n",
       "      <td>id_587</td>\n",
       "      <td>Milan</td>\n",
       "      <td>['Italian', 'Bar', 'Barbecue', 'Pub', 'Vegetar...</td>\n",
       "      <td>588.0</td>\n",
       "      <td>$$ - $$$</td>\n",
       "      <td>659.0</td>\n",
       "      <td>[['Great beer selection and good food', 'Great...</td>\n",
       "      <td>/Restaurant_Review-g187849-d8002075-Reviews-7_...</td>\n",
       "      <td>d8002075</td>\n",
       "      <td>1</td>\n",
       "      <td>4.0</td>\n",
       "    </tr>\n",
       "    <tr>\n",
       "      <th>10209</th>\n",
       "      <td>id_3022</td>\n",
       "      <td>Rome</td>\n",
       "      <td>['Pizza']</td>\n",
       "      <td>3023.0</td>\n",
       "      <td>NaN</td>\n",
       "      <td>42.0</td>\n",
       "      <td>[[], []]</td>\n",
       "      <td>/Restaurant_Review-g187791-d3873744-Reviews-Me...</td>\n",
       "      <td>d3873744</td>\n",
       "      <td>1</td>\n",
       "      <td>4.5</td>\n",
       "    </tr>\n",
       "    <tr>\n",
       "      <th>44329</th>\n",
       "      <td>id_509</td>\n",
       "      <td>Warsaw</td>\n",
       "      <td>['Polish', 'Cafe', 'Eastern European', 'Europe...</td>\n",
       "      <td>510.0</td>\n",
       "      <td>$$ - $$$</td>\n",
       "      <td>31.0</td>\n",
       "      <td>[['Cute little place', \"It's not really a cafe...</td>\n",
       "      <td>/Restaurant_Review-g274856-d8042517-Reviews-Kr...</td>\n",
       "      <td>d8042517</td>\n",
       "      <td>1</td>\n",
       "      <td>4.5</td>\n",
       "    </tr>\n",
       "  </tbody>\n",
       "</table>\n",
       "</div>"
      ],
      "text/plain": [
       "      restaurant_id    city  \\\n",
       "30219       id_3252  Vienna   \n",
       "34681        id_370  Krakow   \n",
       "26611        id_587   Milan   \n",
       "10209       id_3022    Rome   \n",
       "44329        id_509  Warsaw   \n",
       "\n",
       "                                           cuisine_style  ranking price_range  \\\n",
       "30219                                        ['Italian']   3254.0         NaN   \n",
       "34681  ['European', 'Grill', 'Polish', 'Bar', 'Cafe',...    371.0           $   \n",
       "26611  ['Italian', 'Bar', 'Barbecue', 'Pub', 'Vegetar...    588.0    $$ - $$$   \n",
       "10209                                          ['Pizza']   3023.0         NaN   \n",
       "44329  ['Polish', 'Cafe', 'Eastern European', 'Europe...    510.0    $$ - $$$   \n",
       "\n",
       "       number_of_reviews                                            reviews  \\\n",
       "30219                4.0                                           [[], []]   \n",
       "34681               27.0  [['Kazimir Restaurant Bar', 'Good Atmosphere']...   \n",
       "26611              659.0  [['Great beer selection and good food', 'Great...   \n",
       "10209               42.0                                           [[], []]   \n",
       "44329               31.0  [['Cute little place', \"It's not really a cafe...   \n",
       "\n",
       "                                                  url_ta      id_ta  sample  \\\n",
       "30219  /Restaurant_Review-g190454-d4551268-Reviews-Bu...   d4551268       1   \n",
       "34681  /Restaurant_Review-g274772-d12091331-Reviews-K...  d12091331       1   \n",
       "26611  /Restaurant_Review-g187849-d8002075-Reviews-7_...   d8002075       1   \n",
       "10209  /Restaurant_Review-g187791-d3873744-Reviews-Me...   d3873744       1   \n",
       "44329  /Restaurant_Review-g274856-d8042517-Reviews-Kr...   d8042517       1   \n",
       "\n",
       "       rating  \n",
       "30219     4.5  \n",
       "34681     4.5  \n",
       "26611     4.0  \n",
       "10209     4.5  \n",
       "44329     4.5  "
      ]
     },
     "execution_count": 15,
     "metadata": {},
     "output_type": "execute_result"
    }
   ],
   "source": [
    "data.sample(5)"
   ]
  },
  {
   "cell_type": "code",
   "execution_count": 16,
   "metadata": {},
   "outputs": [
    {
     "data": {
      "text/plain": [
       "\"[['Very good reviews!', 'Fine dining in Hakaniemi'], ['12/05/2017', '10/29/2017']]\""
      ]
     },
     "execution_count": 16,
     "metadata": {},
     "output_type": "execute_result"
    }
   ],
   "source": [
    "data.reviews[1]"
   ]
  },
  {
   "cell_type": "markdown",
   "metadata": {},
   "source": [
    "Как видим, большинство признаков у нас требует очистки и предварительной обработки."
   ]
  },
  {
   "cell_type": "markdown",
   "metadata": {},
   "source": [
    "# Cleaning and Prepping Data\n",
    "Обычно данные содержат в себе кучу мусора, который необходимо почистить, для того чтобы привести их в приемлемый формат. Чистка данных — это необходимый этап решения почти любой реальной задачи.   \n",
    "![](https://analyticsindiamag.com/wp-content/uploads/2018/01/data-cleaning.png)"
   ]
  },
  {
   "cell_type": "markdown",
   "metadata": {},
   "source": [
    "## 1. Обработка NAN \n",
    "У наличия пропусков могут быть разные причины, но пропуски нужно либо заполнить, либо исключить из набора полностью. Но с пропусками нужно быть внимательным, **даже отсутствие информации может быть важным признаком!**   \n",
    "По этому перед обработкой NAN лучше вынести информацию о наличии пропуска как отдельный признак "
   ]
  },
  {
   "cell_type": "code",
   "execution_count": 17,
   "metadata": {},
   "outputs": [],
   "source": [
    "data['number_of_reviews_isNAN'] = pd.isna(data.number_of_reviews).astype('uint8')\n",
    "data['price_range_isNAN'] = pd.isna(data.price_range).astype('uint8')\n",
    "data['cuisine_style_isNAN'] = pd.isna(data.cuisine_style).astype('uint8')\n",
    "data['reviews_isNAN'] = pd.isna(data.reviews).astype('uint8')"
   ]
  },
  {
   "cell_type": "markdown",
   "metadata": {},
   "source": [
    "Попробуем более детально посмотреть пропуски и понять на что их можно заменить. Удалять мы их не будем - так как это запрещено условиями задачи."
   ]
  },
  {
   "cell_type": "markdown",
   "metadata": {},
   "source": [
    "## 2. Обработка признаков, Feature Engeneering"
   ]
  },
  {
   "cell_type": "markdown",
   "metadata": {},
   "source": [
    "Рассмотри колонку cuisine_style и выделим в ней уникалные кухни"
   ]
  },
  {
   "cell_type": "code",
   "execution_count": 18,
   "metadata": {},
   "outputs": [],
   "source": [
    "unique_cuisines = data[~data.cuisine_style.isna()]['cuisine_style'].astype('str').apply(lambda x: eval(x)).explode()\n",
    "unique_cuisines_counts = unique_cuisines.value_counts()"
   ]
  },
  {
   "cell_type": "code",
   "execution_count": 19,
   "metadata": {},
   "outputs": [
    {
     "name": "stdout",
     "output_type": "stream",
     "text": [
      "Vegetarian Friendly    14021\n",
      "European               12561\n",
      "Mediterranean           7820\n",
      "Italian                 7433\n",
      "Vegan Options           5684\n",
      "                       ...  \n",
      "Polynesian                 2\n",
      "Burmese                    1\n",
      "Latvian                    1\n",
      "Salvadoran                 1\n",
      "Xinjiang                   1\n",
      "Name: cuisine_style, Length: 125, dtype: int64\n",
      "125\n"
     ]
    }
   ],
   "source": [
    "print(unique_cuisines_counts)\n",
    "print(len(unique_cuisines_counts))"
   ]
  },
  {
   "cell_type": "markdown",
   "metadata": {},
   "source": [
    "Мы видим, что у нас 125 уникальных кухонь. Наиболее часто встречающаяся из них - Vegetarian Friendly.\n",
    "Помимо этого, мы видим, что в конце списка представлены кухни встречающиеся в очень малом количестве ресторанов. Попробуем рассмотреть их в графическом виде."
   ]
  },
  {
   "cell_type": "code",
   "execution_count": 20,
   "metadata": {},
   "outputs": [
    {
     "data": {
      "text/plain": [
       "<matplotlib.axes._axes.Axes at 0x7fdb5d5eed60>"
      ]
     },
     "execution_count": 20,
     "metadata": {},
     "output_type": "execute_result"
    },
    {
     "data": {
      "image/png": "[encoded data removed]",
      "text/plain": [
       "<Figure size 432x288 with 1 Axes>"
      ]
     },
     "metadata": {
      "needs_background": "light"
     },
     "output_type": "display_data"
    }
   ],
   "source": [
    "fig = plt.figure()\n",
    "ax = fig.add_axes([0, 0, 3, 1])\n",
    "unique_cuisines.value_counts().plot(kind='bar')"
   ]
  },
  {
   "cell_type": "markdown",
   "metadata": {},
   "source": [
    "мы видим, что большинство кухонь представлены в очень малом количестве ресторанов и не имею для нас практического значения. их можно объединить в группу Other Cuisines. Попробуем оставить кухни присутствующие минимум в 95% ресторанов. Данный параметр будем менять в дальнейшем, для улучшени результата модели."
   ]
  },
  {
   "cell_type": "code",
   "execution_count": 21,
   "metadata": {},
   "outputs": [
    {
     "data": {
      "text/plain": [
       "['Vegetarian Friendly',\n",
       " 'European',\n",
       " 'Mediterranean',\n",
       " 'Italian',\n",
       " 'Vegan Options',\n",
       " 'Gluten Free Options',\n",
       " 'Bar',\n",
       " 'French',\n",
       " 'Asian',\n",
       " 'Pizza',\n",
       " 'Spanish',\n",
       " 'Pub',\n",
       " 'Cafe']"
      ]
     },
     "execution_count": 21,
     "metadata": {},
     "output_type": "execute_result"
    }
   ],
   "source": [
    "cut_cuisines_limit = len(data.id_ta)*0.05 #этот параметр будем подбирать\n",
    "\n",
    "main_cuisines = list(unique_cuisines_counts[unique_cuisines_counts > cut_cuisines_limit].index)\n",
    "other_cuisines = list(set(unique_cuisines_counts.index) - set(main_cuisines))\n",
    "\n",
    "main_cuisines"
   ]
  },
  {
   "cell_type": "markdown",
   "metadata": {},
   "source": [
    "пропуски в кухнях на данном этапе отнесем к Other Cusines так же как и незначительные кухни"
   ]
  },
  {
   "cell_type": "code",
   "execution_count": 22,
   "metadata": {},
   "outputs": [],
   "source": [
    "data.cuisine_style = data.cuisine_style.fillna(\"['Other Cuisines']\")\n",
    "other_cuisines.append('Other Cuisines')"
   ]
  },
  {
   "cell_type": "markdown",
   "metadata": {},
   "source": [
    "Заменим данные в колонке cuisine_style и прдставим их в виде dummy-переменной и причешем наименования колонок"
   ]
  },
  {
   "cell_type": "code",
   "execution_count": 23,
   "metadata": {},
   "outputs": [],
   "source": [
    "for item in main_cuisines:\n",
    "    data[item] = data.cuisine_style.astype('str').apply(lambda x: 1 if item in x else 0)\n",
    "\n",
    "\n",
    "def other_cuisine(cuisine):\n",
    "    for item in other_cuisines:\n",
    "        if item in cuisine:\n",
    "            return 1\n",
    "    return 0\n",
    "\n",
    "\n",
    "data['other_cuisines'] = data.cuisine_style.astype('str').apply(other_cuisine)\n",
    "\n",
    "data = columns_naming(data)"
   ]
  },
  {
   "cell_type": "markdown",
   "metadata": {},
   "source": [
    "следующий признак ranking"
   ]
  },
  {
   "cell_type": "code",
   "execution_count": 24,
   "metadata": {},
   "outputs": [
    {
     "data": {
      "text/plain": [
       "count    50000.000000\n",
       "mean      3664.427520\n",
       "std       3700.092452\n",
       "min          1.000000\n",
       "25%        972.000000\n",
       "50%       2278.000000\n",
       "75%       5241.000000\n",
       "max      16444.000000\n",
       "Name: ranking, dtype: float64"
      ]
     },
     "execution_count": 24,
     "metadata": {},
     "output_type": "execute_result"
    }
   ],
   "source": [
    "data.ranking.describe()"
   ]
  },
  {
   "cell_type": "code",
   "execution_count": 25,
   "metadata": {},
   "outputs": [
    {
     "data": {
      "text/plain": [
       "<matplotlib.axes._axes.Axes at 0x7fdb5e804fd0>"
      ]
     },
     "execution_count": 25,
     "metadata": {},
     "output_type": "execute_result"
    },
    {
     "data": {
      "image/png": "[encoded data removed]",
      "text/plain": [
       "<Figure size 432x288 with 1 Axes>"
      ]
     },
     "metadata": {
      "needs_background": "light"
     },
     "output_type": "display_data"
    }
   ],
   "source": [
    "fig = plt.figure()\n",
    "ax = fig.add_axes([0, 0, 3, 1])\n",
    "data.ranking.hist(bins=100)"
   ]
  },
  {
   "cell_type": "markdown",
   "metadata": {},
   "source": [
    "Разброс значений достаточно большой. Мы видим, что разница между верхним квартилем и максимумом около 11000 при верхнем квартиле 5241. Так как ranking - это показатель внутри города, попробуем посмотреть на разбивку внутри основных городов. Из информации ниже, мы видим, что города с самым большим количеством ресторанов - это Лондон, Париж, Мадрид, Барселона и т.д."
   ]
  },
  {
   "cell_type": "code",
   "execution_count": 26,
   "metadata": {},
   "outputs": [
    {
     "data": {
      "text/plain": [
       "London       7193\n",
       "Paris        6108\n",
       "Madrid       3813\n",
       "Barcelona    3395\n",
       "Berlin       2705\n",
       "Name: city, dtype: int64"
      ]
     },
     "execution_count": 26,
     "metadata": {},
     "output_type": "execute_result"
    }
   ],
   "source": [
    "main_cities = data.city.value_counts()[0:5]\n",
    "main_cities"
   ]
  },
  {
   "cell_type": "code",
   "execution_count": 27,
   "metadata": {},
   "outputs": [
    {
     "data": {
      "text/plain": [
       "count     7193.000000\n",
       "mean      8169.707354\n",
       "std       4723.964027\n",
       "min          1.000000\n",
       "25%       4101.000000\n",
       "50%       8092.000000\n",
       "75%      12282.000000\n",
       "max      16444.000000\n",
       "Name: ranking, dtype: float64"
      ]
     },
     "execution_count": 27,
     "metadata": {},
     "output_type": "execute_result"
    }
   ],
   "source": [
    "data[data.city == 'London'].ranking.describe()"
   ]
  },
  {
   "cell_type": "code",
   "execution_count": 28,
   "metadata": {},
   "outputs": [
    {
     "data": {
      "text/plain": [
       "<matplotlib.axes._axes.Axes at 0x7fdb603d9e80>"
      ]
     },
     "execution_count": 28,
     "metadata": {},
     "output_type": "execute_result"
    },
    {
     "data": {
      "image/png": "[encoded data removed]",
      "text/plain": [
       "<Figure size 432x288 with 1 Axes>"
      ]
     },
     "metadata": {
      "needs_background": "light"
     },
     "output_type": "display_data"
    }
   ],
   "source": [
    "fig = plt.figure()\n",
    "ax = fig.add_axes([0, 0, 3, 1])\n",
    "data[data.city == 'London'].ranking.hist(bins=100)"
   ]
  },
  {
   "cell_type": "code",
   "execution_count": 29,
   "metadata": {},
   "outputs": [
    {
     "data": {
      "text/plain": [
       "count     6108.000000\n",
       "mean      6938.557138\n",
       "std       4039.932752\n",
       "min          3.000000\n",
       "25%       3450.750000\n",
       "50%       6860.500000\n",
       "75%      10417.750000\n",
       "max      13986.000000\n",
       "Name: ranking, dtype: float64"
      ]
     },
     "execution_count": 29,
     "metadata": {},
     "output_type": "execute_result"
    }
   ],
   "source": [
    "data[data.city == 'Paris'].ranking.describe()"
   ]
  },
  {
   "cell_type": "code",
   "execution_count": 30,
   "metadata": {},
   "outputs": [
    {
     "data": {
      "text/plain": [
       "<matplotlib.axes._axes.Axes at 0x7fdb5fecd9a0>"
      ]
     },
     "execution_count": 30,
     "metadata": {},
     "output_type": "execute_result"
    },
    {
     "data": {
      "image/png": "[encoded data removed]",
      "text/plain": [
       "<Figure size 432x288 with 1 Axes>"
      ]
     },
     "metadata": {
      "needs_background": "light"
     },
     "output_type": "display_data"
    }
   ],
   "source": [
    "fig = plt.figure()\n",
    "ax = fig.add_axes([0, 0, 3, 1])\n",
    "data[data.city == 'Paris'].ranking.hist(bins=100)"
   ]
  },
  {
   "cell_type": "code",
   "execution_count": 31,
   "metadata": {},
   "outputs": [
    {
     "data": {
      "text/plain": [
       "count    3813.000000\n",
       "mean     4388.516391\n",
       "std      2527.656287\n",
       "min         1.000000\n",
       "25%      2207.000000\n",
       "50%      4363.000000\n",
       "75%      6586.000000\n",
       "max      8809.000000\n",
       "Name: ranking, dtype: float64"
      ]
     },
     "execution_count": 31,
     "metadata": {},
     "output_type": "execute_result"
    }
   ],
   "source": [
    "data[data.city == 'Madrid'].ranking.describe()"
   ]
  },
  {
   "cell_type": "code",
   "execution_count": 32,
   "metadata": {},
   "outputs": [
    {
     "data": {
      "text/plain": [
       "<matplotlib.axes._axes.Axes at 0x7fdb5e0f0b50>"
      ]
     },
     "execution_count": 32,
     "metadata": {},
     "output_type": "execute_result"
    },
    {
     "data": {
      "image/png": "[encoded data removed]",
      "text/plain": [
       "<Figure size 432x288 with 1 Axes>"
      ]
     },
     "metadata": {
      "needs_background": "light"
     },
     "output_type": "display_data"
    }
   ],
   "source": [
    "fig = plt.figure()\n",
    "ax = fig.add_axes([0, 0, 3, 1])\n",
    "data[data.city == 'Madrid'].ranking.hist(bins=100)"
   ]
  },
  {
   "cell_type": "markdown",
   "metadata": {},
   "source": [
    "Из данных выше мы видим, что распределение ranking внутри городов более равномерное. Можно попробовать создать признак относительного ранга ресторана в зависимости от максимального ранга в этом городе. Это должно помочь нам выровнять распределение этого признака."
   ]
  },
  {
   "cell_type": "code",
   "execution_count": 33,
   "metadata": {},
   "outputs": [
    {
     "data": {
      "text/plain": [
       "count    50000.000000\n",
       "mean         0.498423\n",
       "std          0.287871\n",
       "min          0.000061\n",
       "25%          0.249061\n",
       "50%          0.496908\n",
       "75%          0.747353\n",
       "max          1.000000\n",
       "Name: relative_ranking, dtype: float64"
      ]
     },
     "execution_count": 33,
     "metadata": {},
     "output_type": "execute_result"
    }
   ],
   "source": [
    "cities = list(data.city.unique())\n",
    "max_rankings = {}\n",
    "for city in cities:\n",
    "    max_rankings.update({city:data[data.city == city].ranking.max()})\n",
    "data['max_ranking_in_city'] = data.city.map(max_rankings)\n",
    "data['relative_ranking'] = data.ranking / data.max_ranking_in_city\n",
    "data.relative_ranking.describe()"
   ]
  },
  {
   "cell_type": "code",
   "execution_count": 34,
   "metadata": {},
   "outputs": [
    {
     "data": {
      "text/plain": [
       "<matplotlib.axes._axes.Axes at 0x7fdb5fdd0e20>"
      ]
     },
     "execution_count": 34,
     "metadata": {},
     "output_type": "execute_result"
    },
    {
     "data": {
      "image/png": "[encoded data removed]",
      "text/plain": [
       "<Figure size 432x288 with 1 Axes>"
      ]
     },
     "metadata": {
      "needs_background": "light"
     },
     "output_type": "display_data"
    }
   ],
   "source": [
    "fig = plt.figure()\n",
    "ax = fig.add_axes([0, 0, 3, 1])\n",
    "data.relative_ranking.hist(bins=100)"
   ]
  },
  {
   "cell_type": "markdown",
   "metadata": {},
   "source": [
    "теперь этот признак имеет более равномерное распределение. попробуем его использовать."
   ]
  },
  {
   "cell_type": "code",
   "execution_count": 35,
   "metadata": {},
   "outputs": [],
   "source": [
    "# Далее заполняем пропуски 0, вы можете попробовать заполнением средним или средним по городу и тд...\n",
    "#data['Number of Reviews'].fillna(0, inplace=True)"
   ]
  },
  {
   "cell_type": "code",
   "execution_count": 36,
   "metadata": {},
   "outputs": [
    {
     "name": "stdout",
     "output_type": "stream",
     "text": [
      "<class 'pandas.core.frame.DataFrame'>\n",
      "RangeIndex: 50000 entries, 0 to 49999\n",
      "Data columns (total 31 columns):\n",
      " #   Column                   Non-Null Count  Dtype  \n",
      "---  ------                   --------------  -----  \n",
      " 0   restaurant_id            50000 non-null  object \n",
      " 1   city                     50000 non-null  object \n",
      " 2   cuisine_style            50000 non-null  object \n",
      " 3   ranking                  50000 non-null  float64\n",
      " 4   price_range              32639 non-null  object \n",
      " 5   number_of_reviews        46800 non-null  float64\n",
      " 6   reviews                  49998 non-null  object \n",
      " 7   url_ta                   50000 non-null  object \n",
      " 8   id_ta                    50000 non-null  object \n",
      " 9   sample                   50000 non-null  int64  \n",
      " 10  rating                   50000 non-null  float64\n",
      " 11  number_of_reviews_isnan  50000 non-null  uint8  \n",
      " 12  price_range_isnan        50000 non-null  uint8  \n",
      " 13  cuisine_style_isnan      50000 non-null  uint8  \n",
      " 14  reviews_isnan            50000 non-null  uint8  \n",
      " 15  vegetarian_friendly      50000 non-null  int64  \n",
      " 16  european                 50000 non-null  int64  \n",
      " 17  mediterranean            50000 non-null  int64  \n",
      " 18  italian                  50000 non-null  int64  \n",
      " 19  vegan_options            50000 non-null  int64  \n",
      " 20  gluten_free_options      50000 non-null  int64  \n",
      " 21  bar                      50000 non-null  int64  \n",
      " 22  french                   50000 non-null  int64  \n",
      " 23  asian                    50000 non-null  int64  \n",
      " 24  pizza                    50000 non-null  int64  \n",
      " 25  spanish                  50000 non-null  int64  \n",
      " 26  pub                      50000 non-null  int64  \n",
      " 27  cafe                     50000 non-null  int64  \n",
      " 28  other_cuisines           50000 non-null  int64  \n",
      " 29  max_ranking_in_city      50000 non-null  float64\n",
      " 30  relative_ranking         50000 non-null  float64\n",
      "dtypes: float64(5), int64(15), object(7), uint8(4)\n",
      "memory usage: 10.5+ MB\n"
     ]
    }
   ],
   "source": [
    "data.info()"
   ]
  },
  {
   "cell_type": "markdown",
   "metadata": {},
   "source": [
    "Рассмотрим следующий столбец price_range. Он имеет несколько значение обозначающих порядок цен в ресторанах. Этот признак имеет упорядоченные значения, поэтому мы можем заменить его на 1, 2 и 3. Пропусков достаточно много. Для упрощения работы заменим их на среднее значение 2 и посмотрим на работу модели. Возможно, в дальнейшем я изменю подход в этом случае."
   ]
  },
  {
   "cell_type": "code",
   "execution_count": 37,
   "metadata": {},
   "outputs": [
    {
     "data": {
      "text/plain": [
       "array(['$$ - $$$', '$$$$', '$', nan], dtype=object)"
      ]
     },
     "execution_count": 37,
     "metadata": {},
     "output_type": "execute_result"
    }
   ],
   "source": [
    "data.price_range.unique()"
   ]
  },
  {
   "cell_type": "code",
   "execution_count": 38,
   "metadata": {},
   "outputs": [],
   "source": [
    "data.price_range = data.price_range.str.replace('\\$\\$\\$\\$', '3')\n",
    "data.price_range = data.price_range.str.replace('\\$\\$\\s-\\s\\$\\$\\$', '2')\n",
    "data.price_range = data.price_range.str.replace('\\$', '1')\n",
    "data.price_range = data.price_range.fillna(0)"
   ]
  },
  {
   "cell_type": "markdown",
   "metadata": {},
   "source": [
    "переведем этот признак в dummy переменные"
   ]
  },
  {
   "cell_type": "code",
   "execution_count": 39,
   "metadata": {},
   "outputs": [],
   "source": [
    "price_dummy = pd.get_dummies(data.price_range.apply(pd.Series).stack(), prefix = 'price_range_').sum(level=0)\n",
    "data = pd.concat([data, price_dummy], axis=1, ignore_index=False)"
   ]
  },
  {
   "cell_type": "code",
   "execution_count": 40,
   "metadata": {},
   "outputs": [
    {
     "name": "stdout",
     "output_type": "stream",
     "text": [
      "<class 'pandas.core.frame.DataFrame'>\n",
      "RangeIndex: 50000 entries, 0 to 49999\n",
      "Data columns (total 35 columns):\n",
      " #   Column                   Non-Null Count  Dtype  \n",
      "---  ------                   --------------  -----  \n",
      " 0   restaurant_id            50000 non-null  object \n",
      " 1   city                     50000 non-null  object \n",
      " 2   cuisine_style            50000 non-null  object \n",
      " 3   ranking                  50000 non-null  float64\n",
      " 4   price_range              50000 non-null  object \n",
      " 5   number_of_reviews        46800 non-null  float64\n",
      " 6   reviews                  49998 non-null  object \n",
      " 7   url_ta                   50000 non-null  object \n",
      " 8   id_ta                    50000 non-null  object \n",
      " 9   sample                   50000 non-null  int64  \n",
      " 10  rating                   50000 non-null  float64\n",
      " 11  number_of_reviews_isnan  50000 non-null  uint8  \n",
      " 12  price_range_isnan        50000 non-null  uint8  \n",
      " 13  cuisine_style_isnan      50000 non-null  uint8  \n",
      " 14  reviews_isnan            50000 non-null  uint8  \n",
      " 15  vegetarian_friendly      50000 non-null  int64  \n",
      " 16  european                 50000 non-null  int64  \n",
      " 17  mediterranean            50000 non-null  int64  \n",
      " 18  italian                  50000 non-null  int64  \n",
      " 19  vegan_options            50000 non-null  int64  \n",
      " 20  gluten_free_options      50000 non-null  int64  \n",
      " 21  bar                      50000 non-null  int64  \n",
      " 22  french                   50000 non-null  int64  \n",
      " 23  asian                    50000 non-null  int64  \n",
      " 24  pizza                    50000 non-null  int64  \n",
      " 25  spanish                  50000 non-null  int64  \n",
      " 26  pub                      50000 non-null  int64  \n",
      " 27  cafe                     50000 non-null  int64  \n",
      " 28  other_cuisines           50000 non-null  int64  \n",
      " 29  max_ranking_in_city      50000 non-null  float64\n",
      " 30  relative_ranking         50000 non-null  float64\n",
      " 31  price_range__0           50000 non-null  uint8  \n",
      " 32  price_range__1           50000 non-null  uint8  \n",
      " 33  price_range__2           50000 non-null  uint8  \n",
      " 34  price_range__3           50000 non-null  uint8  \n",
      "dtypes: float64(5), int64(15), object(7), uint8(8)\n",
      "memory usage: 10.7+ MB\n"
     ]
    }
   ],
   "source": [
    "data.info()"
   ]
  },
  {
   "cell_type": "markdown",
   "metadata": {},
   "source": [
    "посмотрим на колонку number_of_reviews"
   ]
  },
  {
   "cell_type": "code",
   "execution_count": 41,
   "metadata": {},
   "outputs": [
    {
     "data": {
      "text/plain": [
       "count    46800.000000\n",
       "mean       124.471197\n",
       "std        294.114345\n",
       "min          2.000000\n",
       "25%          9.000000\n",
       "50%         33.000000\n",
       "75%        115.000000\n",
       "max       9660.000000\n",
       "Name: number_of_reviews, dtype: float64"
      ]
     },
     "execution_count": 41,
     "metadata": {},
     "output_type": "execute_result"
    }
   ],
   "source": [
    "data.number_of_reviews.describe()"
   ]
  },
  {
   "cell_type": "markdown",
   "metadata": {},
   "source": [
    "как мы видим, есть несколько тысяч пропусков в этом столбце, которые нам нужно проанализировать. так же мы видим очень большой разброс между верхним квартилем и максимумом. это похоже на ситуацию с рангами. скорее всего есть небольшое количество популярных ресторанов с большим количеством отзывов. Основная масса ресторанов имеет не более 115 отзывов."
   ]
  },
  {
   "cell_type": "code",
   "execution_count": 42,
   "metadata": {},
   "outputs": [
    {
     "name": "stdout",
     "output_type": "stream",
     "text": [
      "<class 'pandas.core.frame.DataFrame'>\n",
      "Int64Index: 2023 entries, 7 to 49988\n",
      "Data columns (total 35 columns):\n",
      " #   Column                   Non-Null Count  Dtype  \n",
      "---  ------                   --------------  -----  \n",
      " 0   restaurant_id            2023 non-null   object \n",
      " 1   city                     2023 non-null   object \n",
      " 2   cuisine_style            2023 non-null   object \n",
      " 3   ranking                  2023 non-null   float64\n",
      " 4   price_range              2023 non-null   object \n",
      " 5   number_of_reviews        0 non-null      float64\n",
      " 6   reviews                  2023 non-null   object \n",
      " 7   url_ta                   2023 non-null   object \n",
      " 8   id_ta                    2023 non-null   object \n",
      " 9   sample                   2023 non-null   int64  \n",
      " 10  rating                   2023 non-null   float64\n",
      " 11  number_of_reviews_isnan  2023 non-null   uint8  \n",
      " 12  price_range_isnan        2023 non-null   uint8  \n",
      " 13  cuisine_style_isnan      2023 non-null   uint8  \n",
      " 14  reviews_isnan            2023 non-null   uint8  \n",
      " 15  vegetarian_friendly      2023 non-null   int64  \n",
      " 16  european                 2023 non-null   int64  \n",
      " 17  mediterranean            2023 non-null   int64  \n",
      " 18  italian                  2023 non-null   int64  \n",
      " 19  vegan_options            2023 non-null   int64  \n",
      " 20  gluten_free_options      2023 non-null   int64  \n",
      " 21  bar                      2023 non-null   int64  \n",
      " 22  french                   2023 non-null   int64  \n",
      " 23  asian                    2023 non-null   int64  \n",
      " 24  pizza                    2023 non-null   int64  \n",
      " 25  spanish                  2023 non-null   int64  \n",
      " 26  pub                      2023 non-null   int64  \n",
      " 27  cafe                     2023 non-null   int64  \n",
      " 28  other_cuisines           2023 non-null   int64  \n",
      " 29  max_ranking_in_city      2023 non-null   float64\n",
      " 30  relative_ranking         2023 non-null   float64\n",
      " 31  price_range__0           2023 non-null   uint8  \n",
      " 32  price_range__1           2023 non-null   uint8  \n",
      " 33  price_range__2           2023 non-null   uint8  \n",
      " 34  price_range__3           2023 non-null   uint8  \n",
      "dtypes: float64(5), int64(15), object(7), uint8(8)\n",
      "memory usage: 458.3+ KB\n"
     ]
    }
   ],
   "source": [
    "num_rev_na = data[data.number_of_reviews.isna()]\n",
    "num_rev_na[num_rev_na.reviews == '[[], []]'].info()"
   ]
  },
  {
   "cell_type": "code",
   "execution_count": 43,
   "metadata": {},
   "outputs": [
    {
     "name": "stdout",
     "output_type": "stream",
     "text": [
      "<class 'pandas.core.frame.DataFrame'>\n",
      "Int64Index: 1177 entries, 74 to 49989\n",
      "Data columns (total 35 columns):\n",
      " #   Column                   Non-Null Count  Dtype  \n",
      "---  ------                   --------------  -----  \n",
      " 0   restaurant_id            1177 non-null   object \n",
      " 1   city                     1177 non-null   object \n",
      " 2   cuisine_style            1177 non-null   object \n",
      " 3   ranking                  1177 non-null   float64\n",
      " 4   price_range              1177 non-null   object \n",
      " 5   number_of_reviews        0 non-null      float64\n",
      " 6   reviews                  1176 non-null   object \n",
      " 7   url_ta                   1177 non-null   object \n",
      " 8   id_ta                    1177 non-null   object \n",
      " 9   sample                   1177 non-null   int64  \n",
      " 10  rating                   1177 non-null   float64\n",
      " 11  number_of_reviews_isnan  1177 non-null   uint8  \n",
      " 12  price_range_isnan        1177 non-null   uint8  \n",
      " 13  cuisine_style_isnan      1177 non-null   uint8  \n",
      " 14  reviews_isnan            1177 non-null   uint8  \n",
      " 15  vegetarian_friendly      1177 non-null   int64  \n",
      " 16  european                 1177 non-null   int64  \n",
      " 17  mediterranean            1177 non-null   int64  \n",
      " 18  italian                  1177 non-null   int64  \n",
      " 19  vegan_options            1177 non-null   int64  \n",
      " 20  gluten_free_options      1177 non-null   int64  \n",
      " 21  bar                      1177 non-null   int64  \n",
      " 22  french                   1177 non-null   int64  \n",
      " 23  asian                    1177 non-null   int64  \n",
      " 24  pizza                    1177 non-null   int64  \n",
      " 25  spanish                  1177 non-null   int64  \n",
      " 26  pub                      1177 non-null   int64  \n",
      " 27  cafe                     1177 non-null   int64  \n",
      " 28  other_cuisines           1177 non-null   int64  \n",
      " 29  max_ranking_in_city      1177 non-null   float64\n",
      " 30  relative_ranking         1177 non-null   float64\n",
      " 31  price_range__0           1177 non-null   uint8  \n",
      " 32  price_range__1           1177 non-null   uint8  \n",
      " 33  price_range__2           1177 non-null   uint8  \n",
      " 34  price_range__3           1177 non-null   uint8  \n",
      "dtypes: float64(5), int64(15), object(7), uint8(8)\n",
      "memory usage: 266.7+ KB\n"
     ]
    }
   ],
   "source": [
    "num_rev_na[num_rev_na.reviews != '[[], []]'].info()"
   ]
  },
  {
   "cell_type": "markdown",
   "metadata": {},
   "source": [
    "мы видим, что две трети из пропусков соответствуют пустым значениям в отзывах. мы можем их заменить на нули. остальные значения заменим на 1, так как большинство и них содержат один отзыв."
   ]
  },
  {
   "cell_type": "code",
   "execution_count": 44,
   "metadata": {},
   "outputs": [],
   "source": [
    "data = data.dropna(subset=['number_of_reviews'], axis=0)\n",
    "num_rev_na.number_of_reviews = num_rev_na.number_of_reviews.apply(lambda x: 0 if x == \"[[], []]\" else 1)\n",
    "data = pd.concat([data, num_rev_na])"
   ]
  },
  {
   "cell_type": "markdown",
   "metadata": {},
   "source": [
    "рассмотрим последнюю колонку в которой есть пропуски - reviews. Здесь мы видим, что в этой колонке соержатся вложенные списки с отзывами и датами этих отзывов. сделаем разбивку данных таким образом, что бы отзывы и даты были в отдельных колонках основного датафрема. это позволит нам работать с ними."
   ]
  },
  {
   "cell_type": "code",
   "execution_count": 45,
   "metadata": {},
   "outputs": [
    {
     "data": {
      "text/plain": [
       "0                                                 [[], []]\n",
       "1        [['Very good reviews!', 'Fine dining in Hakani...\n",
       "2        [['Better than the Links', 'Ivy Black'], ['12/...\n",
       "3        [['Most exquisite', 'Delicious and authentic']...\n",
       "4        [['Always the best in bratislava', 'Very good ...\n",
       "                               ...                        \n",
       "49965                                             [[], []]\n",
       "49972             [['Personal expirence'], ['10/27/2017']]\n",
       "49986                                             [[], []]\n",
       "49988                                             [[], []]\n",
       "49989             [['I love this place!'], ['08/24/2015']]\n",
       "Name: reviews, Length: 50000, dtype: object"
      ]
     },
     "execution_count": 45,
     "metadata": {},
     "output_type": "execute_result"
    }
   ],
   "source": [
    "data.reviews"
   ]
  },
  {
   "cell_type": "markdown",
   "metadata": {},
   "source": [
    "заменим пропуски строками с пустыми списками, по примеру, который мы видим выше."
   ]
  },
  {
   "cell_type": "code",
   "execution_count": 46,
   "metadata": {},
   "outputs": [],
   "source": [
    "data.reviews = data.reviews.fillna('[[], []]')"
   ]
  },
  {
   "cell_type": "code",
   "execution_count": 47,
   "metadata": {},
   "outputs": [
    {
     "name": "stdout",
     "output_type": "stream",
     "text": [
      "[['Will certainly be back', nan], ['11/26/2017', '07/27/2017']]\n",
      "[[nan, 'Good food with decent service'], ['11/21/2017', '07/21/2017']]\n"
     ]
    }
   ],
   "source": [
    "for review in data.reviews:\n",
    "    try:\n",
    "        temp = eval(review)\n",
    "    except:\n",
    "        print(review)"
   ]
  },
  {
   "cell_type": "markdown",
   "metadata": {},
   "source": [
    "выше мы видим, что эти строки вместо значений отзывов содержат в себе NaN. То есть мы имеем дату отзыва но его текст по какой-то причине был утерян. Попраивм эти строки так, чтобы мы могли транформировать всю колонку из строки в список."
   ]
  },
  {
   "cell_type": "code",
   "execution_count": 48,
   "metadata": {},
   "outputs": [],
   "source": [
    "data.reviews = data.reviews.apply(lambda x: x.replace('nan', '').replace(\"[,\", \"['',\").replace('[[], []]', \"[['', ''], ['', '']]\"))\n",
    "data.reviews = data.reviews.apply(lambda x: eval(x))"
   ]
  },
  {
   "cell_type": "markdown",
   "metadata": {},
   "source": [
    "разобьем полученные списки на отдельные колонки"
   ]
  },
  {
   "cell_type": "code",
   "execution_count": 49,
   "metadata": {},
   "outputs": [],
   "source": [
    "data['first_review'] = data.reviews.apply(lambda x: x[0][0])\n",
    "data['last_review'] = data.reviews.apply(lambda x: x[0][1] if len(x[0]) == 2 else '')\n",
    "data['first_review_date'] = data.reviews.apply(lambda x: x[1][0])\n",
    "data['last_review_date'] = data.reviews.apply(lambda x: x[1][1] if len(x[1]) == 2 else '')\n",
    "data.first_review_date = pd.to_datetime(data.first_review_date)\n",
    "data.last_review_date = pd.to_datetime(data.last_review_date)"
   ]
  },
  {
   "cell_type": "markdown",
   "metadata": {},
   "source": [
    "нам нужно заменить пропуски в датах первого и последнего отзывов. можно попробовать использовать среднее значение соответствующих колонок"
   ]
  },
  {
   "cell_type": "code",
   "execution_count": 50,
   "metadata": {},
   "outputs": [],
   "source": [
    "data.first_review_date = data.first_review_date.fillna(data.first_review_date.mean()).dt.date\n",
    "data.last_review_date = data.last_review_date.fillna(data.last_review_date.mean()).dt.date"
   ]
  },
  {
   "cell_type": "markdown",
   "metadata": {},
   "source": [
    "добавим признаки времени между первым и последним обзором в днях и времени прошедшем после последнего обзора"
   ]
  },
  {
   "cell_type": "code",
   "execution_count": 51,
   "metadata": {},
   "outputs": [],
   "source": [
    "data['delta_between_reviews'] = (data.last_review_date - data.first_review_date).dt.days"
   ]
  },
  {
   "cell_type": "code",
   "execution_count": 52,
   "metadata": {},
   "outputs": [],
   "source": [
    "today = date.today()\n",
    "data['since_last_review'] = (today - data.last_review_date).dt.days"
   ]
  },
  {
   "cell_type": "markdown",
   "metadata": {},
   "source": [
    "обратимся к колонке городов - city. посмотрим на распределение ресторанов по городам."
   ]
  },
  {
   "cell_type": "code",
   "execution_count": 53,
   "metadata": {},
   "outputs": [
    {
     "name": "stdout",
     "output_type": "stream",
     "text": [
      "[0.14386 0.12216 0.07626 0.0679  0.0541  0.05388 0.05178 0.03632 0.03294\n",
      " 0.02886 0.02744 0.02628 0.02372 0.0229  0.02252 0.02066 0.02042 0.0185\n",
      " 0.01672 0.01638 0.01552 0.0149  0.0137  0.01284 0.0118  0.01108 0.00976\n",
      " 0.0095  0.0076  0.00526 0.00444]\n",
      "31\n"
     ]
    }
   ],
   "source": [
    "percentage_rest_per_city = data.city.value_counts().values / 50000\n",
    "print(percentage_rest_per_city)\n",
    "print(len(data.city.value_counts()))"
   ]
  },
  {
   "cell_type": "markdown",
   "metadata": {},
   "source": [
    "оставим все города и переведем их в dummy переменную"
   ]
  },
  {
   "cell_type": "code",
   "execution_count": 54,
   "metadata": {},
   "outputs": [],
   "source": [
    "city_dummy = pd.get_dummies(data.city.apply(pd.Series).stack()).sum(level=0)\n",
    "data = pd.concat([data, city_dummy], axis=1, ignore_index=False)"
   ]
  },
  {
   "cell_type": "markdown",
   "metadata": {},
   "source": [
    "поработаем с городами. поробуем добавить информации о них и создать новые признаки на их основе"
   ]
  },
  {
   "cell_type": "markdown",
   "metadata": {},
   "source": [
    "создадим словарь с информацией о том, является ли город столичным"
   ]
  },
  {
   "cell_type": "code",
   "execution_count": 55,
   "metadata": {},
   "outputs": [],
   "source": [
    "is_capital_dict = {'Paris':1,'Helsinki':1,'Edinburgh':0,'London':1,'Bratislava':1,'Paris':1,'Lisbon':1,'Stockholm':1,\n",
    "                    'Rome':1,'Milan':0,'Munich':0,'Hamburg':0,'Prague':1,'Vienna':1,'Dublin':1,'Barcelona':0,'Brussels':1,\n",
    "                    'Oslo':1,'Madrid':1,'Amsterdam':1,'Berlin':1,'Lyon':0,'Athens':1,'Budapest':1,'Warsaw':1,'Oporto':0,\n",
    "                    'Krakow':0,'Copenhagen':1,'Luxembourg':1,'Zurich':0,'Geneva':1,'Ljubljana':1}"
   ]
  },
  {
   "cell_type": "markdown",
   "metadata": {},
   "source": [
    "добавим эту информацию в основной датафрейм"
   ]
  },
  {
   "cell_type": "code",
   "execution_count": 56,
   "metadata": {},
   "outputs": [],
   "source": [
    "data['is_capital'] = data.city.map(is_capital_dict)"
   ]
  },
  {
   "cell_type": "markdown",
   "metadata": {},
   "source": [
    "добавим информацию о населении городов в словарь и введем этот признак в наш датасет"
   ]
  },
  {
   "cell_type": "code",
   "execution_count": 57,
   "metadata": {},
   "outputs": [],
   "source": [
    "#источник данных: поисковик google\n",
    "population_dict = {'Paris':2140526,'Helsinki':643272,'Edinburgh':482005,'London':8982000,'Bratislava':424428,\n",
    "                   'Lisbon':504718,'Stockholm':975904,'Rome':2873000,'Milan':1352000,'Munich':1472000,\n",
    "                   'Hamburg':1845000,'Prague':1309000,'Vienna':1897000,'Dublin':1388000,'Barcelona':5575000,\n",
    "                   'Brussels':174383,'Oslo':681067,'Madrid':6642000,'Amsterdam':821752,'Berlin':3769000,\n",
    "                   'Lyon':513275,'Athens':664046,'Budapest':1752000,'Warsaw':1708000,'Oporto':214349,\n",
    "                   'Krakow':779115,'Copenhagen':602481,'Luxembourg':613894,'Zurich':402762,'Geneva':499480,\n",
    "                   'Ljubljana':279631}"
   ]
  },
  {
   "cell_type": "code",
   "execution_count": 58,
   "metadata": {},
   "outputs": [],
   "source": [
    "data['population'] = data.city.map(population_dict)/1000"
   ]
  },
  {
   "cell_type": "markdown",
   "metadata": {},
   "source": [
    "добавим индекс стоимости жизни по городам для определения доступности ресторанов"
   ]
  },
  {
   "cell_type": "code",
   "execution_count": 59,
   "metadata": {},
   "outputs": [],
   "source": [
    "#источник https://www.numbeo.com/cost-of-living/\n",
    "cost_of_life_dict = {'Paris':73.15,'Helsinki':92.66,'Edinburgh':81.48,'London':81.48,'Bratislava':48.77,\n",
    "                   'Lisbon':42.67,'Stockholm':96.58,'Rome':73.15,'Milan':85.35,'Munich':73.15,\n",
    "                   'Hamburg':60.96,'Prague':36.82,'Vienna':60.96,'Dublin':73.15,'Barcelona':60.96,\n",
    "                   'Brussels':73.15,'Oslo':104.05,'Madrid':60.96,'Amsterdam':92.66,'Berlin':60.96,\n",
    "                   'Lyon':60.96,'Athens':48.77,'Budapest':40.42,'Warsaw':40.56,'Oporto':39.62,\n",
    "                   'Krakow':32.45,'Copenhagen':106.58,'Luxembourg':85.35,'Zurich':123.65,'Geneva':112.41,\n",
    "                   'Ljubljana':48.77}"
   ]
  },
  {
   "cell_type": "code",
   "execution_count": 60,
   "metadata": {},
   "outputs": [],
   "source": [
    "data['average_cost_of_meal'] = data.city.map(cost_of_life_dict)"
   ]
  },
  {
   "cell_type": "markdown",
   "metadata": {},
   "source": [
    "рассчитаем количество ресторанов на одного жителя города"
   ]
  },
  {
   "cell_type": "code",
   "execution_count": 61,
   "metadata": {},
   "outputs": [
    {
     "data": {
      "text/html": [
       "<div>\n",
       "<style scoped>\n",
       "    .dataframe tbody tr th:only-of-type {\n",
       "        vertical-align: middle;\n",
       "    }\n",
       "\n",
       "    .dataframe tbody tr th {\n",
       "        vertical-align: top;\n",
       "    }\n",
       "\n",
       "    .dataframe thead th {\n",
       "        text-align: right;\n",
       "    }\n",
       "</style>\n",
       "<table border=\"1\" class=\"dataframe\">\n",
       "  <thead>\n",
       "    <tr style=\"text-align: right;\">\n",
       "      <th></th>\n",
       "      <th>restaurant_id</th>\n",
       "      <th>city</th>\n",
       "      <th>cuisine_style</th>\n",
       "      <th>ranking</th>\n",
       "      <th>price_range</th>\n",
       "      <th>number_of_reviews</th>\n",
       "      <th>reviews</th>\n",
       "      <th>url_ta</th>\n",
       "      <th>id_ta</th>\n",
       "      <th>sample</th>\n",
       "      <th>...</th>\n",
       "      <th>Rome</th>\n",
       "      <th>Stockholm</th>\n",
       "      <th>Vienna</th>\n",
       "      <th>Warsaw</th>\n",
       "      <th>Zurich</th>\n",
       "      <th>is_capital</th>\n",
       "      <th>population</th>\n",
       "      <th>average_cost_of_meal</th>\n",
       "      <th>num_of_rest</th>\n",
       "      <th>rest_per_citizen</th>\n",
       "    </tr>\n",
       "  </thead>\n",
       "  <tbody>\n",
       "    <tr>\n",
       "      <th>24532</th>\n",
       "      <td>id_609</td>\n",
       "      <td>Edinburgh</td>\n",
       "      <td>['Grill', 'Pub', 'Gastropub', 'British', 'Bar'...</td>\n",
       "      <td>610.0</td>\n",
       "      <td>2</td>\n",
       "      <td>53.0</td>\n",
       "      <td>[[Amazing Food, Great], [01/11/2018, 01/11/2018]]</td>\n",
       "      <td>/Restaurant_Review-g186525-d12949239-Reviews-T...</td>\n",
       "      <td>d12949239</td>\n",
       "      <td>1</td>\n",
       "      <td>...</td>\n",
       "      <td>0</td>\n",
       "      <td>0</td>\n",
       "      <td>0</td>\n",
       "      <td>0</td>\n",
       "      <td>0</td>\n",
       "      <td>0</td>\n",
       "      <td>482.005</td>\n",
       "      <td>81.48</td>\n",
       "      <td>745</td>\n",
       "      <td>1.545627</td>\n",
       "    </tr>\n",
       "    <tr>\n",
       "      <th>6052</th>\n",
       "      <td>id_6052</td>\n",
       "      <td>Zurich</td>\n",
       "      <td>['Italian', 'Pizza', 'Mediterranean', 'Europea...</td>\n",
       "      <td>107.0</td>\n",
       "      <td>2</td>\n",
       "      <td>152.0</td>\n",
       "      <td>[[Pizza magic, Real italian experience in Zuri...</td>\n",
       "      <td>/Restaurant_Review-g188113-d1020883-Reviews-Da...</td>\n",
       "      <td>d1020883</td>\n",
       "      <td>0</td>\n",
       "      <td>...</td>\n",
       "      <td>0</td>\n",
       "      <td>0</td>\n",
       "      <td>0</td>\n",
       "      <td>0</td>\n",
       "      <td>1</td>\n",
       "      <td>0</td>\n",
       "      <td>402.762</td>\n",
       "      <td>123.65</td>\n",
       "      <td>685</td>\n",
       "      <td>1.700756</td>\n",
       "    </tr>\n",
       "    <tr>\n",
       "      <th>46882</th>\n",
       "      <td>id_3588</td>\n",
       "      <td>Rome</td>\n",
       "      <td>['Other Cuisines']</td>\n",
       "      <td>3589.0</td>\n",
       "      <td>0</td>\n",
       "      <td>11.0</td>\n",
       "      <td>[[Vegan friendly, Cheapest coffee in Rome by p...</td>\n",
       "      <td>/Restaurant_Review-g187791-d12434097-Reviews-C...</td>\n",
       "      <td>d12434097</td>\n",
       "      <td>1</td>\n",
       "      <td>...</td>\n",
       "      <td>1</td>\n",
       "      <td>0</td>\n",
       "      <td>0</td>\n",
       "      <td>0</td>\n",
       "      <td>0</td>\n",
       "      <td>1</td>\n",
       "      <td>2873.000</td>\n",
       "      <td>73.15</td>\n",
       "      <td>2589</td>\n",
       "      <td>0.901149</td>\n",
       "    </tr>\n",
       "    <tr>\n",
       "      <th>38193</th>\n",
       "      <td>id_1689</td>\n",
       "      <td>Rome</td>\n",
       "      <td>['Italian', 'Seafood', 'Mediterranean', 'Europ...</td>\n",
       "      <td>1690.0</td>\n",
       "      <td>2</td>\n",
       "      <td>124.0</td>\n",
       "      <td>[[AMAZING, A wonderful place with friendly sta...</td>\n",
       "      <td>/Restaurant_Review-g187791-d10620243-Reviews-A...</td>\n",
       "      <td>d10620243</td>\n",
       "      <td>1</td>\n",
       "      <td>...</td>\n",
       "      <td>1</td>\n",
       "      <td>0</td>\n",
       "      <td>0</td>\n",
       "      <td>0</td>\n",
       "      <td>0</td>\n",
       "      <td>1</td>\n",
       "      <td>2873.000</td>\n",
       "      <td>73.15</td>\n",
       "      <td>2589</td>\n",
       "      <td>0.901149</td>\n",
       "    </tr>\n",
       "    <tr>\n",
       "      <th>43076</th>\n",
       "      <td>id_442</td>\n",
       "      <td>Paris</td>\n",
       "      <td>['French', 'European', 'Vegetarian Friendly']</td>\n",
       "      <td>443.0</td>\n",
       "      <td>3</td>\n",
       "      <td>493.0</td>\n",
       "      <td>[[Our 3rd Visit, Modern and interesting. Worth...</td>\n",
       "      <td>/Restaurant_Review-g187147-d2080368-Reviews-Re...</td>\n",
       "      <td>d2080368</td>\n",
       "      <td>1</td>\n",
       "      <td>...</td>\n",
       "      <td>0</td>\n",
       "      <td>0</td>\n",
       "      <td>0</td>\n",
       "      <td>0</td>\n",
       "      <td>0</td>\n",
       "      <td>1</td>\n",
       "      <td>2140.526</td>\n",
       "      <td>73.15</td>\n",
       "      <td>6108</td>\n",
       "      <td>2.853504</td>\n",
       "    </tr>\n",
       "  </tbody>\n",
       "</table>\n",
       "<p>5 rows × 77 columns</p>\n",
       "</div>"
      ],
      "text/plain": [
       "      restaurant_id       city  \\\n",
       "24532        id_609  Edinburgh   \n",
       "6052        id_6052     Zurich   \n",
       "46882       id_3588       Rome   \n",
       "38193       id_1689       Rome   \n",
       "43076        id_442      Paris   \n",
       "\n",
       "                                           cuisine_style  ranking price_range  \\\n",
       "24532  ['Grill', 'Pub', 'Gastropub', 'British', 'Bar'...    610.0           2   \n",
       "6052   ['Italian', 'Pizza', 'Mediterranean', 'Europea...    107.0           2   \n",
       "46882                                 ['Other Cuisines']   3589.0           0   \n",
       "38193  ['Italian', 'Seafood', 'Mediterranean', 'Europ...   1690.0           2   \n",
       "43076      ['French', 'European', 'Vegetarian Friendly']    443.0           3   \n",
       "\n",
       "       number_of_reviews                                            reviews  \\\n",
       "24532               53.0  [[Amazing Food, Great], [01/11/2018, 01/11/2018]]   \n",
       "6052               152.0  [[Pizza magic, Real italian experience in Zuri...   \n",
       "46882               11.0  [[Vegan friendly, Cheapest coffee in Rome by p...   \n",
       "38193              124.0  [[AMAZING, A wonderful place with friendly sta...   \n",
       "43076              493.0  [[Our 3rd Visit, Modern and interesting. Worth...   \n",
       "\n",
       "                                                  url_ta      id_ta  sample  \\\n",
       "24532  /Restaurant_Review-g186525-d12949239-Reviews-T...  d12949239       1   \n",
       "6052   /Restaurant_Review-g188113-d1020883-Reviews-Da...   d1020883       0   \n",
       "46882  /Restaurant_Review-g187791-d12434097-Reviews-C...  d12434097       1   \n",
       "38193  /Restaurant_Review-g187791-d10620243-Reviews-A...  d10620243       1   \n",
       "43076  /Restaurant_Review-g187147-d2080368-Reviews-Re...   d2080368       1   \n",
       "\n",
       "       ...  Rome  Stockholm  Vienna  Warsaw  Zurich  is_capital  population  \\\n",
       "24532  ...     0          0       0       0       0           0     482.005   \n",
       "6052   ...     0          0       0       0       1           0     402.762   \n",
       "46882  ...     1          0       0       0       0           1    2873.000   \n",
       "38193  ...     1          0       0       0       0           1    2873.000   \n",
       "43076  ...     0          0       0       0       0           1    2140.526   \n",
       "\n",
       "       average_cost_of_meal  num_of_rest  rest_per_citizen  \n",
       "24532                 81.48          745          1.545627  \n",
       "6052                 123.65          685          1.700756  \n",
       "46882                 73.15         2589          0.901149  \n",
       "38193                 73.15         2589          0.901149  \n",
       "43076                 73.15         6108          2.853504  \n",
       "\n",
       "[5 rows x 77 columns]"
      ]
     },
     "execution_count": 61,
     "metadata": {},
     "output_type": "execute_result"
    }
   ],
   "source": [
    "numb_of_rest_dict = dict(data.city.value_counts())\n",
    "data['num_of_rest'] = data.city.map(numb_of_rest_dict)\n",
    "data['rest_per_citizen'] = data.num_of_rest / data.population\n",
    "data.sample(5)"
   ]
  },
  {
   "cell_type": "markdown",
   "metadata": {},
   "source": [
    "# EDA \n",
    "[Exploratory Data Analysis](https://ru.wikipedia.org/wiki/Разведочный_анализ_данных) - Анализ данных\n",
    "На этом этапе мы строим графики, ищем закономерности, аномалии, выбросы или связи между признаками.\n",
    "В общем цель этого этапа понять, что эти данные могут нам дать и как признаки могут быть взаимосвязаны между собой.\n",
    "Понимание изначальных признаков позволит сгенерировать новые, более сильные и, тем самым, сделать нашу модель лучше.\n",
    "![](https://miro.medium.com/max/2598/1*RXdMb7Uk6mGqWqPguHULaQ.png)"
   ]
  },
  {
   "cell_type": "markdown",
   "metadata": {},
   "source": [
    "### Посмотрим распределение признака"
   ]
  },
  {
   "cell_type": "code",
   "execution_count": 62,
   "metadata": {},
   "outputs": [
    {
     "data": {
      "text/plain": [
       "<matplotlib.axes._subplots.AxesSubplot at 0x7fdb44e08b50>"
      ]
     },
     "execution_count": 62,
     "metadata": {},
     "output_type": "execute_result"
    },
    {
     "data": {
      "image/png": "[encoded data removed]",
      "text/plain": [
       "<Figure size 720x504 with 1 Axes>"
      ]
     },
     "metadata": {
      "needs_background": "light"
     },
     "output_type": "display_data"
    }
   ],
   "source": [
    "plt.rcParams['figure.figsize'] = (10,7)\n",
    "df_train['ranking'].hist(bins=100)"
   ]
  },
  {
   "cell_type": "markdown",
   "metadata": {},
   "source": [
    "У нас много ресторанов, которые не дотягивают и до 2500 места в своем городе, а что там по городам?"
   ]
  },
  {
   "cell_type": "code",
   "execution_count": 63,
   "metadata": {},
   "outputs": [
    {
     "data": {
      "text/plain": [
       "<matplotlib.axes._subplots.AxesSubplot at 0x7fdb47c18610>"
      ]
     },
     "execution_count": 63,
     "metadata": {},
     "output_type": "execute_result"
    },
    {
     "data": {
      "image/png": "[encoded data removed]",
      "text/plain": [
       "<Figure size 720x504 with 1 Axes>"
      ]
     },
     "metadata": {
      "needs_background": "light"
     },
     "output_type": "display_data"
    }
   ],
   "source": [
    "df_train['city'].value_counts(ascending=True).plot(kind='barh')"
   ]
  },
  {
   "cell_type": "markdown",
   "metadata": {},
   "source": [
    "А кто-то говорил, что французы любят поесть=) Посмотрим, как изменится распределение в большом городе:"
   ]
  },
  {
   "cell_type": "code",
   "execution_count": 64,
   "metadata": {},
   "outputs": [
    {
     "data": {
      "text/plain": [
       "<matplotlib.axes._subplots.AxesSubplot at 0x7fdb47bfe700>"
      ]
     },
     "execution_count": 64,
     "metadata": {},
     "output_type": "execute_result"
    },
    {
     "data": {
      "image/png": "[encoded data removed]",
      "text/plain": [
       "<Figure size 720x504 with 1 Axes>"
      ]
     },
     "metadata": {
      "needs_background": "light"
     },
     "output_type": "display_data"
    }
   ],
   "source": [
    "df_train['ranking'][df_train['city'] =='London'].hist(bins=100)"
   ]
  },
  {
   "cell_type": "code",
   "execution_count": 65,
   "metadata": {},
   "outputs": [
    {
     "data": {
      "image/png": "[encoded data removed]",
      "text/plain": [
       "<Figure size 720x504 with 1 Axes>"
      ]
     },
     "metadata": {
      "needs_background": "light"
     },
     "output_type": "display_data"
    }
   ],
   "source": [
    "# посмотрим на топ 10 городов\n",
    "for x in (df_train['city'].value_counts())[0:10].index:\n",
    "    df_train['ranking'][df_train['city'] == x].hist(bins=100)\n",
    "plt.show()"
   ]
  },
  {
   "cell_type": "markdown",
   "metadata": {},
   "source": [
    "Получается, что Ranking имеет нормальное распределение, просто в больших городах больше ресторанов, из-за мы этого имеем смещение.\n",
    "\n",
    ">Подумайте как из этого можно сделать признак для вашей модели. Я покажу вам пример, как визуализация помогает находить взаимосвязи. А далее действуйте без подсказок =) \n"
   ]
  },
  {
   "cell_type": "markdown",
   "metadata": {},
   "source": [
    "мы создали новый признак relative ranking, что бы изменить ситуацию"
   ]
  },
  {
   "cell_type": "markdown",
   "metadata": {},
   "source": [
    "### Посмотрим распределение целевой переменной"
   ]
  },
  {
   "cell_type": "code",
   "execution_count": 66,
   "metadata": {},
   "outputs": [
    {
     "data": {
      "text/plain": [
       "<matplotlib.axes._subplots.AxesSubplot at 0x7fdb5f3e3d00>"
      ]
     },
     "execution_count": 66,
     "metadata": {},
     "output_type": "execute_result"
    },
    {
     "data": {
      "image/png": "[encoded data removed]",
      "text/plain": [
       "<Figure size 720x504 with 1 Axes>"
      ]
     },
     "metadata": {
      "needs_background": "light"
     },
     "output_type": "display_data"
    }
   ],
   "source": [
    "df_train['rating'].value_counts(ascending=True).plot(kind='barh')"
   ]
  },
  {
   "cell_type": "markdown",
   "metadata": {},
   "source": [
    "### Посмотрим распределение целевой переменной относительно признака"
   ]
  },
  {
   "cell_type": "code",
   "execution_count": 67,
   "metadata": {},
   "outputs": [
    {
     "data": {
      "text/plain": [
       "<matplotlib.axes._subplots.AxesSubplot at 0x7fdb4885dd00>"
      ]
     },
     "execution_count": 67,
     "metadata": {},
     "output_type": "execute_result"
    },
    {
     "data": {
      "image/png": "[encoded data removed]",
      "text/plain": [
       "<Figure size 720x504 with 1 Axes>"
      ]
     },
     "metadata": {
      "needs_background": "light"
     },
     "output_type": "display_data"
    }
   ],
   "source": [
    "df_train['ranking'][df_train['rating'] == 5].hist(bins=100)"
   ]
  },
  {
   "cell_type": "code",
   "execution_count": 68,
   "metadata": {},
   "outputs": [
    {
     "data": {
      "text/plain": [
       "<matplotlib.axes._subplots.AxesSubplot at 0x7fdb44e183a0>"
      ]
     },
     "execution_count": 68,
     "metadata": {},
     "output_type": "execute_result"
    },
    {
     "data": {
      "image/png": "[encoded data removed]",
      "text/plain": [
       "<Figure size 720x504 with 1 Axes>"
      ]
     },
     "metadata": {
      "needs_background": "light"
     },
     "output_type": "display_data"
    }
   ],
   "source": [
    "df_train['ranking'][df_train['rating'] < 4].hist(bins=100)"
   ]
  },
  {
   "cell_type": "markdown",
   "metadata": {},
   "source": [
    "### И один из моих любимых - [корреляция признаков](https://ru.wikipedia.org/wiki/Корреляция)\n",
    "На этом графике уже сейчас вы сможете заметить, как признаки связаны между собой и с целевой переменной."
   ]
  },
  {
   "cell_type": "code",
   "execution_count": 69,
   "metadata": {},
   "outputs": [
    {
     "data": {
      "text/plain": [
       "<matplotlib.axes._subplots.AxesSubplot at 0x7fdb44c545b0>"
      ]
     },
     "execution_count": 69,
     "metadata": {},
     "output_type": "execute_result"
    },
    {
     "data": {
      "image/png": "[encoded data removed]",
      "text/plain": [
       "<Figure size 1080x720 with 2 Axes>"
      ]
     },
     "metadata": {
      "needs_background": "light"
     },
     "output_type": "display_data"
    }
   ],
   "source": [
    "plt.rcParams['figure.figsize'] = (15,10)\n",
    "sns.heatmap(data.drop(['sample'], axis=1).corr(),)"
   ]
  },
  {
   "cell_type": "markdown",
   "metadata": {},
   "source": [
    "Вообще благодаря визуализации в этом датасете можно узнать много интересных фактов, например:\n",
    "* где больше Пицерий в Мадриде или Лондоне?\n",
    "* в каком городе кухня ресторанов более разнообразна?\n",
    "\n",
    "придумайте свои вопрос и найдите на него ответ в данных)"
   ]
  },
  {
   "cell_type": "markdown",
   "metadata": {},
   "source": [
    "# Data Preprocessing\n",
    "Теперь, для удобства и воспроизводимости кода, завернем всю обработку в одну большую функцию."
   ]
  },
  {
   "cell_type": "code",
   "execution_count": 70,
   "metadata": {},
   "outputs": [
    {
     "name": "stdout",
     "output_type": "stream",
     "text": [
      "<class 'pandas.core.frame.DataFrame'>\n",
      "RangeIndex: 50000 entries, 0 to 49999\n",
      "Data columns (total 11 columns):\n",
      " #   Column             Non-Null Count  Dtype  \n",
      "---  ------             --------------  -----  \n",
      " 0   restaurant_id      50000 non-null  object \n",
      " 1   city               50000 non-null  object \n",
      " 2   cuisine_style      38410 non-null  object \n",
      " 3   ranking            50000 non-null  float64\n",
      " 4   price_range        32639 non-null  object \n",
      " 5   number_of_reviews  46800 non-null  float64\n",
      " 6   reviews            49998 non-null  object \n",
      " 7   url_ta             50000 non-null  object \n",
      " 8   id_ta              50000 non-null  object \n",
      " 9   sample             50000 non-null  int64  \n",
      " 10  rating             50000 non-null  float64\n",
      "dtypes: float64(3), int64(1), object(7)\n",
      "memory usage: 4.2+ MB\n"
     ]
    }
   ],
   "source": [
    "# на всякий случай, заново подгружаем данные\n",
    "df_train = pd.read_csv('main_task.csv')\n",
    "df_test = pd.read_csv('kaggle_task.csv')\n",
    "df_train['sample'] = 1 # помечаем где у нас трейн\n",
    "df_test['sample'] = 0 # помечаем где у нас тест\n",
    "df_test['Rating'] = 0 # в тесте у нас нет значения Rating, мы его должны предсказать, по этому пока просто заполняем нулями\n",
    "\n",
    "df_train = columns_naming(df_train)\n",
    "df_test = columns_naming(df_test)\n",
    "\n",
    "data = df_test.append(df_train, sort=False).reset_index(drop=True) # объединяем\n",
    "data.info()"
   ]
  },
  {
   "cell_type": "code",
   "execution_count": 71,
   "metadata": {},
   "outputs": [],
   "source": [
    "def preproc_data(df_input):\n",
    "    '''includes several functions to pre-process the predictor data.'''\n",
    "    \n",
    "    df_output = df_input.copy()\n",
    "    \n",
    "    # ################### 1. Предобработка ############################################################## \n",
    "    # убираем не нужные для модели признаки\n",
    "    df_output.drop(['restaurant_id','id_ta',], axis = 1, inplace=True)\n",
    "    today = date.today()\n",
    "    \n",
    "    \n",
    "    # ################### 2. NAN ############################################################## \n",
    "    # Далее заполняем пропуски, вы можете попробовать заполнением средним или средним по городу и тд...\n",
    "    df_output['number_of_reviews_isNAN'] = pd.isna(df_output.number_of_reviews).astype('uint8')\n",
    "    df_output['price_range_isNAN'] = pd.isna(df_output.price_range).astype('uint8')\n",
    "    df_output['cuisine_style_isNAN'] = pd.isna(df_output.cuisine_style).astype('uint8')\n",
    "    df_output['reviews_isNAN'] = pd.isna(df_output.reviews).astype('uint8')\n",
    "    \n",
    "    \n",
    "    # ################### 3. Encoding ############################################################## \n",
    "    # для One-Hot Encoding в pandas есть готовая функция - get_dummies. Особенно радует параметр dummy_na\n",
    "    # df_output = pd.get_dummies(df_output, columns=[ 'City',], dummy_na=True)\n",
    "    # тут ваш код не Encoding фитчей\n",
    "    unique_cuisines = df_output[~df_output.cuisine_style.isna()]['cuisine_style'].astype('str').apply(lambda x: eval(x)).explode()\n",
    "    unique_cuisines_counts = unique_cuisines.value_counts()\n",
    "    \n",
    "    cut_cuisines_limit = 50000 * 0.05 #этот параметр будем подбирать\n",
    "\n",
    "    main_cuisines = list(unique_cuisines_counts[unique_cuisines_counts > cut_cuisines_limit].index)\n",
    "    other_cuisines = list(set(unique_cuisines_counts.index) - set(main_cuisines))\n",
    "    \n",
    "    df_output.cuisine_style = df_output.cuisine_style.fillna(\"['Other Cuisines']\")\n",
    "    other_cuisines.append('Other Cuisines')\n",
    "    \n",
    "    for item in main_cuisines:\n",
    "        df_output[item] = df_output.cuisine_style.astype('str').apply(lambda x: 1 if item in x else 0)\n",
    "\n",
    "    def other_cuisine(cuisine):\n",
    "        for item in other_cuisines:\n",
    "            if item in cuisine:\n",
    "                return 1\n",
    "        return 0\n",
    "\n",
    "    df_output['other_cuisines'] = df_output.cuisine_style.astype('str').apply(other_cuisine)\n",
    "    df_output = columns_naming(df_output)\n",
    "    \n",
    "    cities = list(df_output.city.unique())\n",
    "    max_rankings = {}\n",
    "    for city in cities:\n",
    "        max_rankings.update({city:df_output[df_output.city == city].ranking.max()})\n",
    "    df_output['max_ranking_in_city'] = df_output.city.map(max_rankings)\n",
    "    \n",
    "    df_output.price_range = df_output.price_range.str.replace('\\$\\$\\$\\$', '3')\n",
    "    df_output.price_range = df_output.price_range.str.replace('\\$\\$\\s-\\s\\$\\$\\$', '2')\n",
    "    df_output.price_range = df_output.price_range.str.replace('\\$', '1')\n",
    "    df_output.price_range = df_output.price_range.fillna(0)\n",
    "    \n",
    "    price_dummy = pd.get_dummies(df_output.price_range.apply(pd.Series).stack(), prefix = 'price_range_').sum(level=0)\n",
    "    df_output = pd.concat([df_output, price_dummy], axis=1, ignore_index=False)\n",
    "    \n",
    "    num_rev_na = df_output[df_output.number_of_reviews.isna()]\n",
    "    df_output = df_output.dropna(subset=['number_of_reviews'], axis=0)\n",
    "    num_rev_na.number_of_reviews = num_rev_na.number_of_reviews.apply(lambda x: 0 if x == \"[[], []]\" else 1)\n",
    "    df_output = pd.concat([df_output, num_rev_na])\n",
    "    df_output.reviews = df_output.reviews.fillna('[[], []]')\n",
    "    df_output.reviews = df_output.reviews.apply(lambda x: x.replace('nan', '').replace(\"[,\", \"['',\").replace('[[], []]', \"[['', ''], ['', '']]\"))\n",
    "    df_output.reviews = df_output.reviews.apply(lambda x: eval(x))\n",
    "    \n",
    "    #добавление этой переменной не оказывает значительного влияния на результат. поэтому добавление этой dummy переменной я убрал\n",
    "    #city_dummy = pd.get_dummies(df_output.city.apply(pd.Series).stack()).sum(level=0)\n",
    "    #df_output = pd.concat([df_output, city_dummy], axis=1, ignore_index=False)\n",
    "    \n",
    "    is_capital_dict = {'Paris':1,'Helsinki':1,'Edinburgh':0,'London':1,'Bratislava':1,'Paris':1,'Lisbon':1,'Stockholm':1,\n",
    "                      'Rome':1,'Milan':0,'Munich':0,'Hamburg':0,'Prague':1,'Vienna':1,'Dublin':1,'Barcelona':0,'Brussels':1,\n",
    "                       'Oslo':1,'Madrid':1,'Amsterdam':1,'Berlin':1,'Lyon':0,'Athens':1,'Budapest':1,'Warsaw':1,'Oporto':0,\n",
    "                      'Krakow':0,'Copenhagen':1,'Luxembourg':1,'Zurich':0,'Geneva':1,'Ljubljana':1}\n",
    "    \n",
    "    #источник данных: https://ru.wikipedia.org/wiki/%D0%93%D0%BE%D1%80%D0%BE%D0%B4%D0%B0_%D0%95%D0%B2%D1%80%D0%BE%D0%BF%D1%8B_%D1%81_%D0%BD%D0%B0%D1%81%D0%B5%D0%BB%D0%B5%D0%BD%D0%B8%D0%B5%D0%BC_%D0%B1%D0%BE%D0%BB%D0%B5%D0%B5_500_%D1%82%D1%8B%D1%81%D1%8F%D1%87_%D1%87%D0%B5%D0%BB%D0%BE%D0%B2%D0%B5%D0%BA\n",
    "    population_dict = {'Paris':2140526,'Helsinki':643272,'Edinburgh':482005,'London':8982000,'Bratislava':424428,\n",
    "                   'Lisbon':504718,'Stockholm':975904,'Rome':2873000,'Milan':1352000,'Munich':1472000,\n",
    "                   'Hamburg':1845000,'Prague':1309000,'Vienna':1897000,'Dublin':1388000,'Barcelona':5575000,\n",
    "                   'Brussels':174383,'Oslo':681067,'Madrid':6642000,'Amsterdam':821752,'Berlin':3769000,\n",
    "                   'Lyon':513275,'Athens':664046,'Budapest':1752000,'Warsaw':1708000,'Oporto':214349,\n",
    "                   'Krakow':779115,'Copenhagen':602481,'Luxembourg':613894,'Zurich':402762,'Geneva':499480,\n",
    "                   'Ljubljana':279631}\n",
    "    \n",
    "    #источник https://www.numbeo.com/cost-of-living/\n",
    "    cost_of_life_dict = {'Paris':73.15,'Helsinki':92.66,'Edinburgh':81.48,'London':81.48,'Bratislava':48.77,\n",
    "                   'Lisbon':42.67,'Stockholm':96.58,'Rome':73.15,'Milan':85.35,'Munich':73.15,\n",
    "                   'Hamburg':60.96,'Prague':36.82,'Vienna':60.96,'Dublin':73.15,'Barcelona':60.96,\n",
    "                   'Brussels':73.15,'Oslo':104.05,'Madrid':60.96,'Amsterdam':92.66,'Berlin':60.96,\n",
    "                   'Lyon':60.96,'Athens':48.77,'Budapest':40.42,'Warsaw':40.56,'Oporto':39.62,\n",
    "                   'Krakow':32.45,'Copenhagen':106.58,'Luxembourg':85.35,'Zurich':123.65,'Geneva':112.41,\n",
    "                   'Ljubljana':48.77}\n",
    "    \n",
    "    numb_of_rest_dict = dict(df_output.city.value_counts())\n",
    "    \n",
    "    df_output = columns_naming(df_output)\n",
    "    \n",
    "    # ################### 4. Feature Engineering ####################################################\n",
    "    # тут ваш код не генерацию новых фитчей\n",
    "    df_output['relative_ranking'] = df_output.ranking / df_output.max_ranking_in_city\n",
    "    df_output['first_review'] = df_output.reviews.apply(lambda x: x[0][0])\n",
    "    df_output['last_review'] = df_output.reviews.apply(lambda x: x[0][1] if len(x[0]) == 2 else '')\n",
    "    df_output['first_review_date'] = df_output.reviews.apply(lambda x: x[1][0])\n",
    "    df_output['last_review_date'] = df_output.reviews.apply(lambda x: x[1][1] if len(x[1]) == 2 else '')\n",
    "    df_output.first_review_date = pd.to_datetime(df_output.first_review_date)\n",
    "    df_output.last_review_date = pd.to_datetime(df_output.last_review_date)\n",
    "    df_output.first_review_date = df_output.first_review_date.fillna(df_output.first_review_date.mean()).dt.date\n",
    "    df_output.last_review_date = df_output.last_review_date.fillna(df_output.last_review_date.mean()).dt.date\n",
    "    df_output['delta_between_reviews'] = (df_output.last_review_date - df_output.first_review_date).dt.days\n",
    "    df_output['since_last_review'] = (today - df_output.last_review_date).dt.days\n",
    "    df_output['is_capital'] = df_output.city.map(is_capital_dict)\n",
    "    df_output['population'] = df_output.city.map(population_dict)/1000\n",
    "    df_output['average_cost_of_meal'] = df_output.city.map(cost_of_life_dict)\n",
    "    df_output['num_of_rest'] = df_output.city.map(numb_of_rest_dict)\n",
    "    df_output['rest_per_citizen'] = df_output.num_of_rest / df_output.population\n",
    "    \n",
    "    \n",
    "    # ################### 5. Clean #################################################### \n",
    "    # попробуем убрать признаки не оказывающие особого влияния\n",
    "    #drop_columns = ['number_of_reviews_isnan', 'price_range_isnan', 'cuisine_style_isnan',\n",
    "    #   'reviews_isnan', 'vegetarian_friendly', 'european', 'mediterranean','italian', 'vegan_options','gluten_free_options', 'bar', 'french',\n",
    "    #   'asian', 'pizza', 'spanish', 'pub', 'cafe', 'other_cuisines','price_range__0', 'price_range__1',\n",
    "    #   'price_range__2', 'price_range__3','is_capital']\n",
    "    #df_output.drop(drop_columns, axis = 1, inplace=True)\n",
    "    # модель на признаках с dtypes \"object\" обучаться не будет, просто выберим их и удалим\n",
    "    object_columns = [s for s in df_output.columns if df_output[s].dtypes == 'object']\n",
    "    df_output.drop(object_columns, axis = 1, inplace=True)\n",
    "    \n",
    "    return df_output"
   ]
  },
  {
   "cell_type": "markdown",
   "metadata": {},
   "source": [
    ">По хорошему, можно было бы перевести эту большую функцию в класс и разбить на подфункции (согласно ООП). "
   ]
  },
  {
   "cell_type": "markdown",
   "metadata": {},
   "source": [
    "#### Запускаем и проверяем что получилось"
   ]
  },
  {
   "cell_type": "code",
   "execution_count": 72,
   "metadata": {},
   "outputs": [
    {
     "data": {
      "text/html": [
       "<div>\n",
       "<style scoped>\n",
       "    .dataframe tbody tr th:only-of-type {\n",
       "        vertical-align: middle;\n",
       "    }\n",
       "\n",
       "    .dataframe tbody tr th {\n",
       "        vertical-align: top;\n",
       "    }\n",
       "\n",
       "    .dataframe thead th {\n",
       "        text-align: right;\n",
       "    }\n",
       "</style>\n",
       "<table border=\"1\" class=\"dataframe\">\n",
       "  <thead>\n",
       "    <tr style=\"text-align: right;\">\n",
       "      <th></th>\n",
       "      <th>ranking</th>\n",
       "      <th>number_of_reviews</th>\n",
       "      <th>sample</th>\n",
       "      <th>rating</th>\n",
       "      <th>number_of_reviews_isnan</th>\n",
       "      <th>price_range_isnan</th>\n",
       "      <th>cuisine_style_isnan</th>\n",
       "      <th>reviews_isnan</th>\n",
       "      <th>vegetarian_friendly</th>\n",
       "      <th>european</th>\n",
       "      <th>...</th>\n",
       "      <th>price_range__2</th>\n",
       "      <th>price_range__3</th>\n",
       "      <th>relative_ranking</th>\n",
       "      <th>delta_between_reviews</th>\n",
       "      <th>since_last_review</th>\n",
       "      <th>is_capital</th>\n",
       "      <th>population</th>\n",
       "      <th>average_cost_of_meal</th>\n",
       "      <th>num_of_rest</th>\n",
       "      <th>rest_per_citizen</th>\n",
       "    </tr>\n",
       "  </thead>\n",
       "  <tbody>\n",
       "    <tr>\n",
       "      <th>36304</th>\n",
       "      <td>542.0</td>\n",
       "      <td>430.0</td>\n",
       "      <td>1</td>\n",
       "      <td>4.0</td>\n",
       "      <td>0</td>\n",
       "      <td>0</td>\n",
       "      <td>0</td>\n",
       "      <td>0</td>\n",
       "      <td>1</td>\n",
       "      <td>0</td>\n",
       "      <td>...</td>\n",
       "      <td>1</td>\n",
       "      <td>0</td>\n",
       "      <td>0.038753</td>\n",
       "      <td>-20</td>\n",
       "      <td>1125</td>\n",
       "      <td>1</td>\n",
       "      <td>2140.526</td>\n",
       "      <td>73.15</td>\n",
       "      <td>6108</td>\n",
       "      <td>2.853504</td>\n",
       "    </tr>\n",
       "    <tr>\n",
       "      <th>36259</th>\n",
       "      <td>2379.0</td>\n",
       "      <td>413.0</td>\n",
       "      <td>1</td>\n",
       "      <td>4.0</td>\n",
       "      <td>0</td>\n",
       "      <td>0</td>\n",
       "      <td>0</td>\n",
       "      <td>0</td>\n",
       "      <td>1</td>\n",
       "      <td>0</td>\n",
       "      <td>...</td>\n",
       "      <td>1</td>\n",
       "      <td>0</td>\n",
       "      <td>0.399966</td>\n",
       "      <td>-6</td>\n",
       "      <td>1145</td>\n",
       "      <td>1</td>\n",
       "      <td>2873.000</td>\n",
       "      <td>73.15</td>\n",
       "      <td>2589</td>\n",
       "      <td>0.901149</td>\n",
       "    </tr>\n",
       "    <tr>\n",
       "      <th>49010</th>\n",
       "      <td>2919.0</td>\n",
       "      <td>95.0</td>\n",
       "      <td>1</td>\n",
       "      <td>4.5</td>\n",
       "      <td>0</td>\n",
       "      <td>0</td>\n",
       "      <td>0</td>\n",
       "      <td>0</td>\n",
       "      <td>0</td>\n",
       "      <td>0</td>\n",
       "      <td>...</td>\n",
       "      <td>1</td>\n",
       "      <td>0</td>\n",
       "      <td>0.208709</td>\n",
       "      <td>-213</td>\n",
       "      <td>1379</td>\n",
       "      <td>1</td>\n",
       "      <td>2140.526</td>\n",
       "      <td>73.15</td>\n",
       "      <td>6108</td>\n",
       "      <td>2.853504</td>\n",
       "    </tr>\n",
       "    <tr>\n",
       "      <th>47933</th>\n",
       "      <td>5389.0</td>\n",
       "      <td>2.0</td>\n",
       "      <td>1</td>\n",
       "      <td>3.5</td>\n",
       "      <td>0</td>\n",
       "      <td>1</td>\n",
       "      <td>1</td>\n",
       "      <td>0</td>\n",
       "      <td>0</td>\n",
       "      <td>0</td>\n",
       "      <td>...</td>\n",
       "      <td>0</td>\n",
       "      <td>0</td>\n",
       "      <td>0.845731</td>\n",
       "      <td>17</td>\n",
       "      <td>1403</td>\n",
       "      <td>1</td>\n",
       "      <td>3769.000</td>\n",
       "      <td>60.96</td>\n",
       "      <td>2705</td>\n",
       "      <td>0.717697</td>\n",
       "    </tr>\n",
       "    <tr>\n",
       "      <th>30362</th>\n",
       "      <td>969.0</td>\n",
       "      <td>8.0</td>\n",
       "      <td>1</td>\n",
       "      <td>5.0</td>\n",
       "      <td>0</td>\n",
       "      <td>1</td>\n",
       "      <td>1</td>\n",
       "      <td>0</td>\n",
       "      <td>0</td>\n",
       "      <td>0</td>\n",
       "      <td>...</td>\n",
       "      <td>0</td>\n",
       "      <td>0</td>\n",
       "      <td>0.494388</td>\n",
       "      <td>-89</td>\n",
       "      <td>1273</td>\n",
       "      <td>1</td>\n",
       "      <td>1388.000</td>\n",
       "      <td>73.15</td>\n",
       "      <td>836</td>\n",
       "      <td>0.602305</td>\n",
       "    </tr>\n",
       "    <tr>\n",
       "      <th>17258</th>\n",
       "      <td>3713.0</td>\n",
       "      <td>184.0</td>\n",
       "      <td>1</td>\n",
       "      <td>4.0</td>\n",
       "      <td>0</td>\n",
       "      <td>0</td>\n",
       "      <td>0</td>\n",
       "      <td>0</td>\n",
       "      <td>1</td>\n",
       "      <td>0</td>\n",
       "      <td>...</td>\n",
       "      <td>1</td>\n",
       "      <td>0</td>\n",
       "      <td>0.225797</td>\n",
       "      <td>-32</td>\n",
       "      <td>1158</td>\n",
       "      <td>1</td>\n",
       "      <td>8982.000</td>\n",
       "      <td>81.48</td>\n",
       "      <td>7193</td>\n",
       "      <td>0.800824</td>\n",
       "    </tr>\n",
       "    <tr>\n",
       "      <th>37295</th>\n",
       "      <td>3000.0</td>\n",
       "      <td>68.0</td>\n",
       "      <td>1</td>\n",
       "      <td>4.0</td>\n",
       "      <td>0</td>\n",
       "      <td>0</td>\n",
       "      <td>0</td>\n",
       "      <td>0</td>\n",
       "      <td>1</td>\n",
       "      <td>0</td>\n",
       "      <td>...</td>\n",
       "      <td>0</td>\n",
       "      <td>0</td>\n",
       "      <td>0.182437</td>\n",
       "      <td>-90</td>\n",
       "      <td>1204</td>\n",
       "      <td>1</td>\n",
       "      <td>8982.000</td>\n",
       "      <td>81.48</td>\n",
       "      <td>7193</td>\n",
       "      <td>0.800824</td>\n",
       "    </tr>\n",
       "    <tr>\n",
       "      <th>12427</th>\n",
       "      <td>5127.0</td>\n",
       "      <td>84.0</td>\n",
       "      <td>1</td>\n",
       "      <td>3.5</td>\n",
       "      <td>0</td>\n",
       "      <td>0</td>\n",
       "      <td>0</td>\n",
       "      <td>0</td>\n",
       "      <td>0</td>\n",
       "      <td>0</td>\n",
       "      <td>...</td>\n",
       "      <td>1</td>\n",
       "      <td>0</td>\n",
       "      <td>0.861970</td>\n",
       "      <td>-424</td>\n",
       "      <td>1613</td>\n",
       "      <td>1</td>\n",
       "      <td>2873.000</td>\n",
       "      <td>73.15</td>\n",
       "      <td>2589</td>\n",
       "      <td>0.901149</td>\n",
       "    </tr>\n",
       "    <tr>\n",
       "      <th>18116</th>\n",
       "      <td>13019.0</td>\n",
       "      <td>114.0</td>\n",
       "      <td>1</td>\n",
       "      <td>3.0</td>\n",
       "      <td>0</td>\n",
       "      <td>1</td>\n",
       "      <td>1</td>\n",
       "      <td>0</td>\n",
       "      <td>0</td>\n",
       "      <td>0</td>\n",
       "      <td>...</td>\n",
       "      <td>0</td>\n",
       "      <td>0</td>\n",
       "      <td>0.930859</td>\n",
       "      <td>-167</td>\n",
       "      <td>1739</td>\n",
       "      <td>1</td>\n",
       "      <td>2140.526</td>\n",
       "      <td>73.15</td>\n",
       "      <td>6108</td>\n",
       "      <td>2.853504</td>\n",
       "    </tr>\n",
       "    <tr>\n",
       "      <th>43738</th>\n",
       "      <td>16269.0</td>\n",
       "      <td>3.0</td>\n",
       "      <td>1</td>\n",
       "      <td>1.5</td>\n",
       "      <td>0</td>\n",
       "      <td>1</td>\n",
       "      <td>1</td>\n",
       "      <td>0</td>\n",
       "      <td>0</td>\n",
       "      <td>0</td>\n",
       "      <td>...</td>\n",
       "      <td>0</td>\n",
       "      <td>0</td>\n",
       "      <td>0.989358</td>\n",
       "      <td>-100</td>\n",
       "      <td>1485</td>\n",
       "      <td>1</td>\n",
       "      <td>8982.000</td>\n",
       "      <td>81.48</td>\n",
       "      <td>7193</td>\n",
       "      <td>0.800824</td>\n",
       "    </tr>\n",
       "  </tbody>\n",
       "</table>\n",
       "<p>10 rows × 35 columns</p>\n",
       "</div>"
      ],
      "text/plain": [
       "       ranking  number_of_reviews  sample  rating  number_of_reviews_isnan  \\\n",
       "36304    542.0              430.0       1     4.0                        0   \n",
       "36259   2379.0              413.0       1     4.0                        0   \n",
       "49010   2919.0               95.0       1     4.5                        0   \n",
       "47933   5389.0                2.0       1     3.5                        0   \n",
       "30362    969.0                8.0       1     5.0                        0   \n",
       "17258   3713.0              184.0       1     4.0                        0   \n",
       "37295   3000.0               68.0       1     4.0                        0   \n",
       "12427   5127.0               84.0       1     3.5                        0   \n",
       "18116  13019.0              114.0       1     3.0                        0   \n",
       "43738  16269.0                3.0       1     1.5                        0   \n",
       "\n",
       "       price_range_isnan  cuisine_style_isnan  reviews_isnan  \\\n",
       "36304                  0                    0              0   \n",
       "36259                  0                    0              0   \n",
       "49010                  0                    0              0   \n",
       "47933                  1                    1              0   \n",
       "30362                  1                    1              0   \n",
       "17258                  0                    0              0   \n",
       "37295                  0                    0              0   \n",
       "12427                  0                    0              0   \n",
       "18116                  1                    1              0   \n",
       "43738                  1                    1              0   \n",
       "\n",
       "       vegetarian_friendly  european  ...  price_range__2  price_range__3  \\\n",
       "36304                    1         0  ...               1               0   \n",
       "36259                    1         0  ...               1               0   \n",
       "49010                    0         0  ...               1               0   \n",
       "47933                    0         0  ...               0               0   \n",
       "30362                    0         0  ...               0               0   \n",
       "17258                    1         0  ...               1               0   \n",
       "37295                    1         0  ...               0               0   \n",
       "12427                    0         0  ...               1               0   \n",
       "18116                    0         0  ...               0               0   \n",
       "43738                    0         0  ...               0               0   \n",
       "\n",
       "       relative_ranking  delta_between_reviews  since_last_review  is_capital  \\\n",
       "36304          0.038753                    -20               1125           1   \n",
       "36259          0.399966                     -6               1145           1   \n",
       "49010          0.208709                   -213               1379           1   \n",
       "47933          0.845731                     17               1403           1   \n",
       "30362          0.494388                    -89               1273           1   \n",
       "17258          0.225797                    -32               1158           1   \n",
       "37295          0.182437                    -90               1204           1   \n",
       "12427          0.861970                   -424               1613           1   \n",
       "18116          0.930859                   -167               1739           1   \n",
       "43738          0.989358                   -100               1485           1   \n",
       "\n",
       "       population  average_cost_of_meal  num_of_rest  rest_per_citizen  \n",
       "36304    2140.526                 73.15         6108          2.853504  \n",
       "36259    2873.000                 73.15         2589          0.901149  \n",
       "49010    2140.526                 73.15         6108          2.853504  \n",
       "47933    3769.000                 60.96         2705          0.717697  \n",
       "30362    1388.000                 73.15          836          0.602305  \n",
       "17258    8982.000                 81.48         7193          0.800824  \n",
       "37295    8982.000                 81.48         7193          0.800824  \n",
       "12427    2873.000                 73.15         2589          0.901149  \n",
       "18116    2140.526                 73.15         6108          2.853504  \n",
       "43738    8982.000                 81.48         7193          0.800824  \n",
       "\n",
       "[10 rows x 35 columns]"
      ]
     },
     "execution_count": 72,
     "metadata": {},
     "output_type": "execute_result"
    }
   ],
   "source": [
    "df_preproc = preproc_data(data)\n",
    "df_preproc.sample(10)"
   ]
  },
  {
   "cell_type": "code",
   "execution_count": 73,
   "metadata": {},
   "outputs": [
    {
     "name": "stdout",
     "output_type": "stream",
     "text": [
      "<class 'pandas.core.frame.DataFrame'>\n",
      "Int64Index: 50000 entries, 0 to 49989\n",
      "Data columns (total 35 columns):\n",
      " #   Column                   Non-Null Count  Dtype  \n",
      "---  ------                   --------------  -----  \n",
      " 0   ranking                  50000 non-null  float64\n",
      " 1   number_of_reviews        50000 non-null  float64\n",
      " 2   sample                   50000 non-null  int64  \n",
      " 3   rating                   50000 non-null  float64\n",
      " 4   number_of_reviews_isnan  50000 non-null  uint8  \n",
      " 5   price_range_isnan        50000 non-null  uint8  \n",
      " 6   cuisine_style_isnan      50000 non-null  uint8  \n",
      " 7   reviews_isnan            50000 non-null  uint8  \n",
      " 8   vegetarian_friendly      50000 non-null  int64  \n",
      " 9   european                 50000 non-null  int64  \n",
      " 10  mediterranean            50000 non-null  int64  \n",
      " 11  italian                  50000 non-null  int64  \n",
      " 12  vegan_options            50000 non-null  int64  \n",
      " 13  gluten_free_options      50000 non-null  int64  \n",
      " 14  bar                      50000 non-null  int64  \n",
      " 15  french                   50000 non-null  int64  \n",
      " 16  asian                    50000 non-null  int64  \n",
      " 17  pizza                    50000 non-null  int64  \n",
      " 18  spanish                  50000 non-null  int64  \n",
      " 19  pub                      50000 non-null  int64  \n",
      " 20  cafe                     50000 non-null  int64  \n",
      " 21  other_cuisines           50000 non-null  int64  \n",
      " 22  max_ranking_in_city      50000 non-null  float64\n",
      " 23  price_range__0           50000 non-null  uint8  \n",
      " 24  price_range__1           50000 non-null  uint8  \n",
      " 25  price_range__2           50000 non-null  uint8  \n",
      " 26  price_range__3           50000 non-null  uint8  \n",
      " 27  relative_ranking         50000 non-null  float64\n",
      " 28  delta_between_reviews    50000 non-null  int64  \n",
      " 29  since_last_review        50000 non-null  int64  \n",
      " 30  is_capital               50000 non-null  int64  \n",
      " 31  population               50000 non-null  float64\n",
      " 32  average_cost_of_meal     50000 non-null  float64\n",
      " 33  num_of_rest              50000 non-null  int64  \n",
      " 34  rest_per_citizen         50000 non-null  float64\n",
      "dtypes: float64(8), int64(19), uint8(8)\n",
      "memory usage: 11.1 MB\n"
     ]
    }
   ],
   "source": [
    "df_preproc.info()"
   ]
  },
  {
   "cell_type": "code",
   "execution_count": 74,
   "metadata": {},
   "outputs": [],
   "source": [
    "# Теперь выделим тестовую часть\n",
    "train_data = df_preproc.query('sample == 1').drop(['sample'], axis=1)\n",
    "test_data = df_preproc.query('sample == 0').drop(['sample'], axis=1)\n",
    "\n",
    "y = train_data.rating.values            # наш таргет\n",
    "X = train_data.drop(['rating'], axis=1)"
   ]
  },
  {
   "cell_type": "markdown",
   "metadata": {},
   "source": [
    "**Перед тем как отправлять наши данные на обучение, разделим данные на еще один тест и трейн, для валидации. \n",
    "Это поможет нам проверить, как хорошо наша модель работает, до отправки submissiona на kaggle.**"
   ]
  },
  {
   "cell_type": "code",
   "execution_count": 75,
   "metadata": {},
   "outputs": [],
   "source": [
    "# Воспользуемся специальной функцие train_test_split для разбивки тестовых данных\n",
    "# выделим 20% данных на валидацию (параметр test_size)\n",
    "X_train, X_test, y_train, y_test = train_test_split(X, y, test_size=0.2, random_state=RANDOM_SEED)"
   ]
  },
  {
   "cell_type": "code",
   "execution_count": 76,
   "metadata": {},
   "outputs": [
    {
     "data": {
      "text/plain": [
       "((10000, 34), (40000, 34), (40000, 33), (32000, 33), (8000, 33))"
      ]
     },
     "execution_count": 76,
     "metadata": {},
     "output_type": "execute_result"
    }
   ],
   "source": [
    "# проверяем\n",
    "test_data.shape, train_data.shape, X.shape, X_train.shape, X_test.shape"
   ]
  },
  {
   "cell_type": "markdown",
   "metadata": {},
   "source": [
    "# Model \n",
    "Сам ML"
   ]
  },
  {
   "cell_type": "code",
   "execution_count": 77,
   "metadata": {},
   "outputs": [],
   "source": [
    "# Импортируем необходимые библиотеки:\n",
    "from sklearn.ensemble import RandomForestRegressor # инструмент для создания и обучения модели\n",
    "from sklearn import metrics # инструменты для оценки точности модели"
   ]
  },
  {
   "cell_type": "code",
   "execution_count": 78,
   "metadata": {},
   "outputs": [],
   "source": [
    "# Создаём модель (НАСТРОЙКИ НЕ ТРОГАЕМ)\n",
    "model = RandomForestRegressor(n_estimators=100, verbose=1, n_jobs=-1, random_state=RANDOM_SEED)"
   ]
  },
  {
   "cell_type": "code",
   "execution_count": 79,
   "metadata": {},
   "outputs": [
    {
     "name": "stderr",
     "output_type": "stream",
     "text": [
      "[Parallel(n_jobs=-1)]: Using backend ThreadingBackend with 8 concurrent workers.\n",
      "[Parallel(n_jobs=-1)]: Done  34 tasks      | elapsed:    1.5s\n",
      "[Parallel(n_jobs=-1)]: Done 100 out of 100 | elapsed:    4.2s finished\n",
      "[Parallel(n_jobs=8)]: Using backend ThreadingBackend with 8 concurrent workers.\n",
      "[Parallel(n_jobs=8)]: Done  34 tasks      | elapsed:    0.0s\n",
      "[Parallel(n_jobs=8)]: Done 100 out of 100 | elapsed:    0.0s finished\n"
     ]
    }
   ],
   "source": [
    "# Обучаем модель на тестовом наборе данных\n",
    "model.fit(X_train, y_train)\n",
    "\n",
    "# Используем обученную модель для предсказания рейтинга ресторанов в тестовой выборке.\n",
    "# Предсказанные значения записываем в переменную y_pred\n",
    "y_pred = model.predict(X_test)"
   ]
  },
  {
   "cell_type": "code",
   "execution_count": 80,
   "metadata": {},
   "outputs": [
    {
     "name": "stdout",
     "output_type": "stream",
     "text": [
      "MAE: 0.20498375\n"
     ]
    }
   ],
   "source": [
    "# Сравниваем предсказанные значения (y_pred) с реальными (y_test), и смотрим насколько они в среднем отличаются\n",
    "# Метрика называется Mean Absolute Error (MAE) и показывает среднее отклонение предсказанных значений от фактических.\n",
    "print('MAE:', metrics.mean_absolute_error(y_test, y_pred))"
   ]
  },
  {
   "cell_type": "code",
   "execution_count": 81,
   "metadata": {},
   "outputs": [
    {
     "data": {
      "text/plain": [
       "<matplotlib.axes._subplots.AxesSubplot at 0x7fdb481e3ee0>"
      ]
     },
     "execution_count": 81,
     "metadata": {},
     "output_type": "execute_result"
    },
    {
     "data": {
      "image/png": "[encoded data removed]",
      "text/plain": [
       "<Figure size 720x720 with 1 Axes>"
      ]
     },
     "metadata": {
      "needs_background": "light"
     },
     "output_type": "display_data"
    }
   ],
   "source": [
    "# в RandomForestRegressor есть возможность вывести самые важные признаки для модели\n",
    "plt.rcParams['figure.figsize'] = (10,10)\n",
    "feat_importances = pd.Series(model.feature_importances_, index=X.columns)\n",
    "feat_importances.nlargest(15).plot(kind='barh')"
   ]
  },
  {
   "cell_type": "markdown",
   "metadata": {},
   "source": [
    "# Submission\n",
    "Если все устраевает - готовим Submission на кагл"
   ]
  },
  {
   "cell_type": "code",
   "execution_count": 82,
   "metadata": {},
   "outputs": [
    {
     "data": {
      "text/html": [
       "<div>\n",
       "<style scoped>\n",
       "    .dataframe tbody tr th:only-of-type {\n",
       "        vertical-align: middle;\n",
       "    }\n",
       "\n",
       "    .dataframe tbody tr th {\n",
       "        vertical-align: top;\n",
       "    }\n",
       "\n",
       "    .dataframe thead th {\n",
       "        text-align: right;\n",
       "    }\n",
       "</style>\n",
       "<table border=\"1\" class=\"dataframe\">\n",
       "  <thead>\n",
       "    <tr style=\"text-align: right;\">\n",
       "      <th></th>\n",
       "      <th>ranking</th>\n",
       "      <th>number_of_reviews</th>\n",
       "      <th>rating</th>\n",
       "      <th>number_of_reviews_isnan</th>\n",
       "      <th>price_range_isnan</th>\n",
       "      <th>cuisine_style_isnan</th>\n",
       "      <th>reviews_isnan</th>\n",
       "      <th>vegetarian_friendly</th>\n",
       "      <th>european</th>\n",
       "      <th>mediterranean</th>\n",
       "      <th>...</th>\n",
       "      <th>price_range__2</th>\n",
       "      <th>price_range__3</th>\n",
       "      <th>relative_ranking</th>\n",
       "      <th>delta_between_reviews</th>\n",
       "      <th>since_last_review</th>\n",
       "      <th>is_capital</th>\n",
       "      <th>population</th>\n",
       "      <th>average_cost_of_meal</th>\n",
       "      <th>num_of_rest</th>\n",
       "      <th>rest_per_citizen</th>\n",
       "    </tr>\n",
       "  </thead>\n",
       "  <tbody>\n",
       "    <tr>\n",
       "      <th>4519</th>\n",
       "      <td>2503.0</td>\n",
       "      <td>148.0</td>\n",
       "      <td>0.0</td>\n",
       "      <td>0</td>\n",
       "      <td>0</td>\n",
       "      <td>0</td>\n",
       "      <td>0</td>\n",
       "      <td>1</td>\n",
       "      <td>1</td>\n",
       "      <td>0</td>\n",
       "      <td>...</td>\n",
       "      <td>1</td>\n",
       "      <td>0</td>\n",
       "      <td>0.152214</td>\n",
       "      <td>-23</td>\n",
       "      <td>1112</td>\n",
       "      <td>1</td>\n",
       "      <td>8982.000</td>\n",
       "      <td>81.48</td>\n",
       "      <td>7193</td>\n",
       "      <td>0.800824</td>\n",
       "    </tr>\n",
       "    <tr>\n",
       "      <th>1857</th>\n",
       "      <td>1317.0</td>\n",
       "      <td>165.0</td>\n",
       "      <td>0.0</td>\n",
       "      <td>0</td>\n",
       "      <td>0</td>\n",
       "      <td>0</td>\n",
       "      <td>0</td>\n",
       "      <td>1</td>\n",
       "      <td>1</td>\n",
       "      <td>0</td>\n",
       "      <td>...</td>\n",
       "      <td>1</td>\n",
       "      <td>0</td>\n",
       "      <td>0.094166</td>\n",
       "      <td>-14</td>\n",
       "      <td>1103</td>\n",
       "      <td>1</td>\n",
       "      <td>2140.526</td>\n",
       "      <td>73.15</td>\n",
       "      <td>6108</td>\n",
       "      <td>2.853504</td>\n",
       "    </tr>\n",
       "    <tr>\n",
       "      <th>2179</th>\n",
       "      <td>5622.0</td>\n",
       "      <td>8.0</td>\n",
       "      <td>0.0</td>\n",
       "      <td>0</td>\n",
       "      <td>1</td>\n",
       "      <td>1</td>\n",
       "      <td>0</td>\n",
       "      <td>0</td>\n",
       "      <td>0</td>\n",
       "      <td>0</td>\n",
       "      <td>...</td>\n",
       "      <td>0</td>\n",
       "      <td>0</td>\n",
       "      <td>0.895936</td>\n",
       "      <td>-70</td>\n",
       "      <td>1403</td>\n",
       "      <td>0</td>\n",
       "      <td>1352.000</td>\n",
       "      <td>85.35</td>\n",
       "      <td>2694</td>\n",
       "      <td>1.992604</td>\n",
       "    </tr>\n",
       "    <tr>\n",
       "      <th>7363</th>\n",
       "      <td>595.0</td>\n",
       "      <td>72.0</td>\n",
       "      <td>0.0</td>\n",
       "      <td>0</td>\n",
       "      <td>0</td>\n",
       "      <td>0</td>\n",
       "      <td>0</td>\n",
       "      <td>1</td>\n",
       "      <td>1</td>\n",
       "      <td>1</td>\n",
       "      <td>...</td>\n",
       "      <td>1</td>\n",
       "      <td>0</td>\n",
       "      <td>0.142073</td>\n",
       "      <td>-5</td>\n",
       "      <td>1092</td>\n",
       "      <td>1</td>\n",
       "      <td>1309.000</td>\n",
       "      <td>36.82</td>\n",
       "      <td>1816</td>\n",
       "      <td>1.387319</td>\n",
       "    </tr>\n",
       "    <tr>\n",
       "      <th>8217</th>\n",
       "      <td>590.0</td>\n",
       "      <td>68.0</td>\n",
       "      <td>0.0</td>\n",
       "      <td>0</td>\n",
       "      <td>0</td>\n",
       "      <td>0</td>\n",
       "      <td>0</td>\n",
       "      <td>1</td>\n",
       "      <td>1</td>\n",
       "      <td>1</td>\n",
       "      <td>...</td>\n",
       "      <td>1</td>\n",
       "      <td>0</td>\n",
       "      <td>0.158730</td>\n",
       "      <td>-12</td>\n",
       "      <td>1158</td>\n",
       "      <td>1</td>\n",
       "      <td>504.718</td>\n",
       "      <td>42.67</td>\n",
       "      <td>1647</td>\n",
       "      <td>3.263208</td>\n",
       "    </tr>\n",
       "    <tr>\n",
       "      <th>9764</th>\n",
       "      <td>3431.0</td>\n",
       "      <td>130.0</td>\n",
       "      <td>0.0</td>\n",
       "      <td>0</td>\n",
       "      <td>0</td>\n",
       "      <td>0</td>\n",
       "      <td>0</td>\n",
       "      <td>1</td>\n",
       "      <td>0</td>\n",
       "      <td>0</td>\n",
       "      <td>...</td>\n",
       "      <td>1</td>\n",
       "      <td>0</td>\n",
       "      <td>0.208648</td>\n",
       "      <td>-11</td>\n",
       "      <td>1128</td>\n",
       "      <td>1</td>\n",
       "      <td>8982.000</td>\n",
       "      <td>81.48</td>\n",
       "      <td>7193</td>\n",
       "      <td>0.800824</td>\n",
       "    </tr>\n",
       "    <tr>\n",
       "      <th>3008</th>\n",
       "      <td>2621.0</td>\n",
       "      <td>38.0</td>\n",
       "      <td>0.0</td>\n",
       "      <td>0</td>\n",
       "      <td>0</td>\n",
       "      <td>0</td>\n",
       "      <td>0</td>\n",
       "      <td>0</td>\n",
       "      <td>1</td>\n",
       "      <td>0</td>\n",
       "      <td>...</td>\n",
       "      <td>1</td>\n",
       "      <td>0</td>\n",
       "      <td>0.625836</td>\n",
       "      <td>-119</td>\n",
       "      <td>1355</td>\n",
       "      <td>1</td>\n",
       "      <td>1309.000</td>\n",
       "      <td>36.82</td>\n",
       "      <td>1816</td>\n",
       "      <td>1.387319</td>\n",
       "    </tr>\n",
       "    <tr>\n",
       "      <th>9599</th>\n",
       "      <td>481.0</td>\n",
       "      <td>245.0</td>\n",
       "      <td>0.0</td>\n",
       "      <td>0</td>\n",
       "      <td>0</td>\n",
       "      <td>0</td>\n",
       "      <td>0</td>\n",
       "      <td>1</td>\n",
       "      <td>1</td>\n",
       "      <td>1</td>\n",
       "      <td>...</td>\n",
       "      <td>1</td>\n",
       "      <td>0</td>\n",
       "      <td>0.245408</td>\n",
       "      <td>-50</td>\n",
       "      <td>1165</td>\n",
       "      <td>1</td>\n",
       "      <td>1388.000</td>\n",
       "      <td>73.15</td>\n",
       "      <td>836</td>\n",
       "      <td>0.602305</td>\n",
       "    </tr>\n",
       "    <tr>\n",
       "      <th>8342</th>\n",
       "      <td>8707.0</td>\n",
       "      <td>29.0</td>\n",
       "      <td>0.0</td>\n",
       "      <td>0</td>\n",
       "      <td>0</td>\n",
       "      <td>0</td>\n",
       "      <td>0</td>\n",
       "      <td>0</td>\n",
       "      <td>0</td>\n",
       "      <td>0</td>\n",
       "      <td>...</td>\n",
       "      <td>0</td>\n",
       "      <td>0</td>\n",
       "      <td>0.622551</td>\n",
       "      <td>578</td>\n",
       "      <td>1403</td>\n",
       "      <td>1</td>\n",
       "      <td>2140.526</td>\n",
       "      <td>73.15</td>\n",
       "      <td>6108</td>\n",
       "      <td>2.853504</td>\n",
       "    </tr>\n",
       "    <tr>\n",
       "      <th>4788</th>\n",
       "      <td>9604.0</td>\n",
       "      <td>33.0</td>\n",
       "      <td>0.0</td>\n",
       "      <td>0</td>\n",
       "      <td>0</td>\n",
       "      <td>0</td>\n",
       "      <td>0</td>\n",
       "      <td>1</td>\n",
       "      <td>0</td>\n",
       "      <td>0</td>\n",
       "      <td>...</td>\n",
       "      <td>0</td>\n",
       "      <td>0</td>\n",
       "      <td>0.584043</td>\n",
       "      <td>-123</td>\n",
       "      <td>1333</td>\n",
       "      <td>1</td>\n",
       "      <td>8982.000</td>\n",
       "      <td>81.48</td>\n",
       "      <td>7193</td>\n",
       "      <td>0.800824</td>\n",
       "    </tr>\n",
       "  </tbody>\n",
       "</table>\n",
       "<p>10 rows × 34 columns</p>\n",
       "</div>"
      ],
      "text/plain": [
       "      ranking  number_of_reviews  rating  number_of_reviews_isnan  \\\n",
       "4519   2503.0              148.0     0.0                        0   \n",
       "1857   1317.0              165.0     0.0                        0   \n",
       "2179   5622.0                8.0     0.0                        0   \n",
       "7363    595.0               72.0     0.0                        0   \n",
       "8217    590.0               68.0     0.0                        0   \n",
       "9764   3431.0              130.0     0.0                        0   \n",
       "3008   2621.0               38.0     0.0                        0   \n",
       "9599    481.0              245.0     0.0                        0   \n",
       "8342   8707.0               29.0     0.0                        0   \n",
       "4788   9604.0               33.0     0.0                        0   \n",
       "\n",
       "      price_range_isnan  cuisine_style_isnan  reviews_isnan  \\\n",
       "4519                  0                    0              0   \n",
       "1857                  0                    0              0   \n",
       "2179                  1                    1              0   \n",
       "7363                  0                    0              0   \n",
       "8217                  0                    0              0   \n",
       "9764                  0                    0              0   \n",
       "3008                  0                    0              0   \n",
       "9599                  0                    0              0   \n",
       "8342                  0                    0              0   \n",
       "4788                  0                    0              0   \n",
       "\n",
       "      vegetarian_friendly  european  mediterranean  ...  price_range__2  \\\n",
       "4519                    1         1              0  ...               1   \n",
       "1857                    1         1              0  ...               1   \n",
       "2179                    0         0              0  ...               0   \n",
       "7363                    1         1              1  ...               1   \n",
       "8217                    1         1              1  ...               1   \n",
       "9764                    1         0              0  ...               1   \n",
       "3008                    0         1              0  ...               1   \n",
       "9599                    1         1              1  ...               1   \n",
       "8342                    0         0              0  ...               0   \n",
       "4788                    1         0              0  ...               0   \n",
       "\n",
       "      price_range__3  relative_ranking  delta_between_reviews  \\\n",
       "4519               0          0.152214                    -23   \n",
       "1857               0          0.094166                    -14   \n",
       "2179               0          0.895936                    -70   \n",
       "7363               0          0.142073                     -5   \n",
       "8217               0          0.158730                    -12   \n",
       "9764               0          0.208648                    -11   \n",
       "3008               0          0.625836                   -119   \n",
       "9599               0          0.245408                    -50   \n",
       "8342               0          0.622551                    578   \n",
       "4788               0          0.584043                   -123   \n",
       "\n",
       "      since_last_review  is_capital  population  average_cost_of_meal  \\\n",
       "4519               1112           1    8982.000                 81.48   \n",
       "1857               1103           1    2140.526                 73.15   \n",
       "2179               1403           0    1352.000                 85.35   \n",
       "7363               1092           1    1309.000                 36.82   \n",
       "8217               1158           1     504.718                 42.67   \n",
       "9764               1128           1    8982.000                 81.48   \n",
       "3008               1355           1    1309.000                 36.82   \n",
       "9599               1165           1    1388.000                 73.15   \n",
       "8342               1403           1    2140.526                 73.15   \n",
       "4788               1333           1    8982.000                 81.48   \n",
       "\n",
       "      num_of_rest  rest_per_citizen  \n",
       "4519         7193          0.800824  \n",
       "1857         6108          2.853504  \n",
       "2179         2694          1.992604  \n",
       "7363         1816          1.387319  \n",
       "8217         1647          3.263208  \n",
       "9764         7193          0.800824  \n",
       "3008         1816          1.387319  \n",
       "9599          836          0.602305  \n",
       "8342         6108          2.853504  \n",
       "4788         7193          0.800824  \n",
       "\n",
       "[10 rows x 34 columns]"
      ]
     },
     "execution_count": 82,
     "metadata": {},
     "output_type": "execute_result"
    }
   ],
   "source": [
    "test_data.sample(10)"
   ]
  },
  {
   "cell_type": "code",
   "execution_count": 83,
   "metadata": {},
   "outputs": [],
   "source": [
    "test_data = test_data.drop(['rating'], axis=1)"
   ]
  },
  {
   "cell_type": "code",
   "execution_count": 84,
   "metadata": {},
   "outputs": [
    {
     "data": {
      "text/html": [
       "<div>\n",
       "<style scoped>\n",
       "    .dataframe tbody tr th:only-of-type {\n",
       "        vertical-align: middle;\n",
       "    }\n",
       "\n",
       "    .dataframe tbody tr th {\n",
       "        vertical-align: top;\n",
       "    }\n",
       "\n",
       "    .dataframe thead th {\n",
       "        text-align: right;\n",
       "    }\n",
       "</style>\n",
       "<table border=\"1\" class=\"dataframe\">\n",
       "  <thead>\n",
       "    <tr style=\"text-align: right;\">\n",
       "      <th></th>\n",
       "      <th>Restaurant_id</th>\n",
       "      <th>Rating</th>\n",
       "    </tr>\n",
       "  </thead>\n",
       "  <tbody>\n",
       "    <tr>\n",
       "      <th>0</th>\n",
       "      <td>id_0</td>\n",
       "      <td>2.0</td>\n",
       "    </tr>\n",
       "    <tr>\n",
       "      <th>1</th>\n",
       "      <td>id_1</td>\n",
       "      <td>2.5</td>\n",
       "    </tr>\n",
       "    <tr>\n",
       "      <th>2</th>\n",
       "      <td>id_2</td>\n",
       "      <td>4.0</td>\n",
       "    </tr>\n",
       "    <tr>\n",
       "      <th>3</th>\n",
       "      <td>id_3</td>\n",
       "      <td>1.0</td>\n",
       "    </tr>\n",
       "    <tr>\n",
       "      <th>4</th>\n",
       "      <td>id_4</td>\n",
       "      <td>4.0</td>\n",
       "    </tr>\n",
       "    <tr>\n",
       "      <th>...</th>\n",
       "      <td>...</td>\n",
       "      <td>...</td>\n",
       "    </tr>\n",
       "    <tr>\n",
       "      <th>9995</th>\n",
       "      <td>id_9995</td>\n",
       "      <td>3.0</td>\n",
       "    </tr>\n",
       "    <tr>\n",
       "      <th>9996</th>\n",
       "      <td>id_9996</td>\n",
       "      <td>1.5</td>\n",
       "    </tr>\n",
       "    <tr>\n",
       "      <th>9997</th>\n",
       "      <td>id_9997</td>\n",
       "      <td>4.5</td>\n",
       "    </tr>\n",
       "    <tr>\n",
       "      <th>9998</th>\n",
       "      <td>id_9998</td>\n",
       "      <td>1.0</td>\n",
       "    </tr>\n",
       "    <tr>\n",
       "      <th>9999</th>\n",
       "      <td>id_9999</td>\n",
       "      <td>2.5</td>\n",
       "    </tr>\n",
       "  </tbody>\n",
       "</table>\n",
       "<p>10000 rows × 2 columns</p>\n",
       "</div>"
      ],
      "text/plain": [
       "     Restaurant_id  Rating\n",
       "0             id_0     2.0\n",
       "1             id_1     2.5\n",
       "2             id_2     4.0\n",
       "3             id_3     1.0\n",
       "4             id_4     4.0\n",
       "...            ...     ...\n",
       "9995       id_9995     3.0\n",
       "9996       id_9996     1.5\n",
       "9997       id_9997     4.5\n",
       "9998       id_9998     1.0\n",
       "9999       id_9999     2.5\n",
       "\n",
       "[10000 rows x 2 columns]"
      ]
     },
     "execution_count": 84,
     "metadata": {},
     "output_type": "execute_result"
    }
   ],
   "source": [
    "sample_submission"
   ]
  },
  {
   "cell_type": "code",
   "execution_count": 85,
   "metadata": {},
   "outputs": [
    {
     "name": "stderr",
     "output_type": "stream",
     "text": [
      "[Parallel(n_jobs=8)]: Using backend ThreadingBackend with 8 concurrent workers.\n",
      "[Parallel(n_jobs=8)]: Done  34 tasks      | elapsed:    0.0s\n",
      "[Parallel(n_jobs=8)]: Done 100 out of 100 | elapsed:    0.1s finished\n"
     ]
    }
   ],
   "source": [
    "predict_submission = model.predict(test_data)"
   ]
  },
  {
   "cell_type": "code",
   "execution_count": 86,
   "metadata": {},
   "outputs": [
    {
     "data": {
      "text/plain": [
       "array([3.1  , 4.21 , 4.145, ..., 3.   , 3.995, 3.   ])"
      ]
     },
     "execution_count": 86,
     "metadata": {},
     "output_type": "execute_result"
    }
   ],
   "source": [
    "predict_submission"
   ]
  },
  {
   "cell_type": "code",
   "execution_count": 87,
   "metadata": {},
   "outputs": [
    {
     "data": {
      "text/html": [
       "<div>\n",
       "<style scoped>\n",
       "    .dataframe tbody tr th:only-of-type {\n",
       "        vertical-align: middle;\n",
       "    }\n",
       "\n",
       "    .dataframe tbody tr th {\n",
       "        vertical-align: top;\n",
       "    }\n",
       "\n",
       "    .dataframe thead th {\n",
       "        text-align: right;\n",
       "    }\n",
       "</style>\n",
       "<table border=\"1\" class=\"dataframe\">\n",
       "  <thead>\n",
       "    <tr style=\"text-align: right;\">\n",
       "      <th></th>\n",
       "      <th>Restaurant_id</th>\n",
       "      <th>Rating</th>\n",
       "    </tr>\n",
       "  </thead>\n",
       "  <tbody>\n",
       "    <tr>\n",
       "      <th>0</th>\n",
       "      <td>id_0</td>\n",
       "      <td>3.100</td>\n",
       "    </tr>\n",
       "    <tr>\n",
       "      <th>1</th>\n",
       "      <td>id_1</td>\n",
       "      <td>4.210</td>\n",
       "    </tr>\n",
       "    <tr>\n",
       "      <th>2</th>\n",
       "      <td>id_2</td>\n",
       "      <td>4.145</td>\n",
       "    </tr>\n",
       "    <tr>\n",
       "      <th>3</th>\n",
       "      <td>id_3</td>\n",
       "      <td>4.365</td>\n",
       "    </tr>\n",
       "    <tr>\n",
       "      <th>4</th>\n",
       "      <td>id_4</td>\n",
       "      <td>4.455</td>\n",
       "    </tr>\n",
       "    <tr>\n",
       "      <th>5</th>\n",
       "      <td>id_5</td>\n",
       "      <td>4.355</td>\n",
       "    </tr>\n",
       "    <tr>\n",
       "      <th>6</th>\n",
       "      <td>id_6</td>\n",
       "      <td>1.785</td>\n",
       "    </tr>\n",
       "    <tr>\n",
       "      <th>7</th>\n",
       "      <td>id_7</td>\n",
       "      <td>4.150</td>\n",
       "    </tr>\n",
       "    <tr>\n",
       "      <th>8</th>\n",
       "      <td>id_8</td>\n",
       "      <td>4.600</td>\n",
       "    </tr>\n",
       "    <tr>\n",
       "      <th>9</th>\n",
       "      <td>id_9</td>\n",
       "      <td>4.070</td>\n",
       "    </tr>\n",
       "  </tbody>\n",
       "</table>\n",
       "</div>"
      ],
      "text/plain": [
       "  Restaurant_id  Rating\n",
       "0          id_0   3.100\n",
       "1          id_1   4.210\n",
       "2          id_2   4.145\n",
       "3          id_3   4.365\n",
       "4          id_4   4.455\n",
       "5          id_5   4.355\n",
       "6          id_6   1.785\n",
       "7          id_7   4.150\n",
       "8          id_8   4.600\n",
       "9          id_9   4.070"
      ]
     },
     "execution_count": 87,
     "metadata": {},
     "output_type": "execute_result"
    }
   ],
   "source": [
    "sample_submission['Rating'] = predict_submission\n",
    "sample_submission.to_csv('submission.csv', index=False)\n",
    "sample_submission.head(10)"
   ]
  },
  {
   "cell_type": "markdown",
   "metadata": {},
   "source": [
    "# What's next?\n",
    "Или что делать, чтоб улучшить результат:\n",
    "* Обработать оставшиеся признаки в понятный для машины формат\n",
    "* Посмотреть, что еще можно извлечь из признаков\n",
    "* Сгенерировать новые признаки\n",
    "* Подгрузить дополнительные данные, например: по населению или благосостоянию городов\n",
    "* Подобрать состав признаков\n",
    "\n",
    "В общем, процесс творческий и весьма увлекательный! Удачи в соревновании!\n"
   ]
  },
  {
   "cell_type": "code",
   "execution_count": null,
   "metadata": {},
   "outputs": [],
   "source": []
  }
 ],
 "metadata": {
  "kernelspec": {
   "display_name": "Python 3",
   "language": "python",
   "name": "python3"
  },
  "language_info": {
   "codemirror_mode": {
    "name": "ipython",
    "version": 3
   },
   "file_extension": ".py",
   "mimetype": "text/x-python",
   "name": "python",
   "nbconvert_exporter": "python",
   "pygments_lexer": "ipython3",
   "version": "3.8.3"
  }
 },
 "nbformat": 4,
 "nbformat_minor": 4
}
